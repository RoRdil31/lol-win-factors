{
 "cells": [
  {
   "cell_type": "markdown",
   "metadata": {},
   "source": [
    "# 소환사 닉네임과 태그로 계정 정보 가져오기."
   ]
  },
  {
   "cell_type": "code",
   "execution_count": 64,
   "metadata": {},
   "outputs": [],
   "source": [
    "# def league_v4_encryptedSummonerId_info(id):\n",
    "#     queue = \"RANKED_SOLO_5x5\"\n",
    "#     url = f\"https://kr.api.riotgames.com/lol/league/v4/entries/by-summoner/{id}\"\n",
    "#     response = requests.get(url, headers=header)\n",
    "    \n",
    "#     if response.status_code == 200: return response.json()\n",
    "#     else: print(f\"Error fetching data: {response.status_code}\"); return None\n",
    "    \n",
    "\n",
    "# def account_v1_info(userNickname, tagLine):\n",
    "#     queue = \"RANKED_SOLO_5x5\"\n",
    "#     url = f\"https://asia.api.riotgames.com/riot/account/v1/accounts/by-riot-id/{userNickname}/{tagLine}\"\n",
    "#     response = requests.get(url, headers=header)\n",
    "    \n",
    "#     if response.status_code == 200: return response.json()\n",
    "#     else: print(f\"Error fetching data: {response.status_code}\"); return None\n",
    "\n",
    "# def summoner_v4_by_encryptedPUUID_info(puuid):\n",
    "#     queue = \"RANKED_SOLO_5x5\"\n",
    "#     url = f\"https://kr.api.riotgames.com/lol/summoner/v4/summoners/by-puuid/{puuid}\"\n",
    "#     response = requests.get(url, headers=header)\n",
    "    \n",
    "#     if response.status_code == 200: return response.json()\n",
    "#     else: print(f\"Error fetching data: {response.status_code}\"); return None\n",
    "    \n",
    "\n",
    "# player_id = account_v1_info('Justlikethatkr','kr3')\n",
    "# display(player_id)\n",
    "\n",
    "# player_id = summoner_v4_by_encryptedPUUID_info(player_id['puuid'])\n",
    "# display(player_id)\n",
    "\n",
    "# player = league_v4_encryptedSummonerId_info(player_id['id'])\n",
    "# display(player)\n"
   ]
  },
  {
   "cell_type": "markdown",
   "metadata": {},
   "source": [
    "# Get datas using API"
   ]
  },
  {
   "cell_type": "markdown",
   "metadata": {},
   "source": [
    "## 챌린저 (300명) 티어 정보 가져오기."
   ]
  },
  {
   "cell_type": "code",
   "execution_count": null,
   "metadata": {},
   "outputs": [],
   "source": [
    "from config0215 import api_key\n",
    "import requests\n",
    " \n",
    "api_key = api_key\n",
    "header = {\n",
    "                \"User-Agent\": \"Mozilla/5.0 (Windows NT 10.0; Win64; x64) AppleWebKit/537.36 (KHTML, like Gecko) Chrome/132.0.0.0 Safari/537.36\",\n",
    "                \"Accept-Language\": \"ko-KR,ko;q=0.9,en-US;q=0.8,en;q=0.7\",\n",
    "                \"Accept-Charset\": \"application/x-www-form-urlencoded; charset=UTF-8\",\n",
    "                \"Origin\": \"https://developer.riotgames.com\",\n",
    "                \"X-Riot-Token\": api_key\n",
    "                }\n",
    " \n",
    "def league_v4_tier_info(tier): # 챌린저 300명 summonerId 불러오기.\n",
    "    queue = \"RANKED_SOLO_5x5\"\n",
    "    url = f\"https://kr.api.riotgames.com/lol/league/v4/{tier}leagues/by-queue/{queue}\"\n",
    "    response = requests.get(url, headers=header)\n",
    "    \n",
    "    if response.status_code == 200: return response.json()\n",
    "    else: print(f\"Error fetching data: {response.status_code}\"); return None\n",
    "    \n",
    "    "
   ]
  },
  {
   "cell_type": "code",
   "execution_count": null,
   "metadata": {},
   "outputs": [
    {
     "data": {
      "text/plain": [
       "300"
      ]
     },
     "execution_count": 76,
     "metadata": {},
     "output_type": "execute_result"
    }
   ],
   "source": [
    "tier = 'challenger'\n",
    "player_json = []\n",
    "\n",
    "player_json = league_v4_tier_info(tier)['entries']\n",
    "len(player_json)"
   ]
  },
  {
   "cell_type": "markdown",
   "metadata": {},
   "source": [
    "## 챌린저 (100명) puuid 가져오기. (Match 호출을 위함.)"
   ]
  },
  {
   "cell_type": "code",
   "execution_count": 96,
   "metadata": {},
   "outputs": [],
   "source": [
    "def summoner_v4_summoners_encryptedSummonerId(encryptedSummonerId):\n",
    "    url = f\"https://kr.api.riotgames.com/lol/summoner/v4/summoners/{encryptedSummonerId}?api_key={api_key}\"\n",
    "    response = requests.get(url)\n",
    "    \n",
    "    if response.status_code == 200 : return response.json()\n",
    "    else : print(f\"Error fetching data: {response.status_code}\"); return None"
   ]
  },
  {
   "cell_type": "code",
   "execution_count": null,
   "metadata": {},
   "outputs": [
    {
     "name": "stdout",
     "output_type": "stream",
     "text": [
      "{'puuid': '0RrhGBQ4ePEl6i7hKVQFRV9NL27lbdOKQCVOHcXWRPeaYqPVE9bM6aLeXUITCHblUmoRBUEhvbJaxw', 'summonerId': 'dF9F3NRdYNBKrIwOMMAX3lYTeMOmvM5hRInM5UAALO4DL2U', 'LP': 1997, 'wins': 177, 'losses': 116}\n",
      "100\n"
     ]
    }
   ],
   "source": [
    "challenger_play = {}\n",
    "sorted_entries = sorted(player_json, key=lambda x: x['leaguePoints'], reverse=True)\n",
    "\n",
    "# puuid 가져오기. (match 데이터를 puuid로 가져올 수 있음.) 최대 2분에 100번 api 호출 가능하기 때문에 100명만 기록.\n",
    "for index, entry in enumerate(sorted_entries[:100], start=1):\n",
    "    challenger_play[index] = {\n",
    "        \"puuid\" : summoner_v4_summoners_encryptedSummonerId(entry['summonerId'])['puuid'],\n",
    "        \"summonerId\": entry[\"summonerId\"],\n",
    "        \"LP\": entry[\"leaguePoints\"],\n",
    "        \"wins\": entry[\"wins\"],\n",
    "        \"losses\": entry[\"losses\"]\n",
    "    }\n",
    "\n",
    "print((challenger_play)[1])\n",
    "print(len(challenger_play))"
   ]
  },
  {
   "cell_type": "markdown",
   "metadata": {},
   "source": [
    "## MatchId 정보 가져오기.\n",
    "한 명의 유저당 최근 20개의 경기."
   ]
  },
  {
   "cell_type": "code",
   "execution_count": null,
   "metadata": {},
   "outputs": [],
   "source": [
    "def match_v5_matches_bypuuid_puuid_ids(puuid):\n",
    "    url = f\"https://asia.api.riotgames.com/lol/match/v5/matches/by-puuid/{puuid}/ids?start=0&count=20&api_key={api_key}\"\n",
    "    response = requests.get(url)\n",
    "    \n",
    "    if response.status_code == 200 : return response.json()\n",
    "    else : print(f\"Error fetching data: {response.status_code}\"); return None"
   ]
  },
  {
   "cell_type": "code",
   "execution_count": 124,
   "metadata": {},
   "outputs": [
    {
     "name": "stdout",
     "output_type": "stream",
     "text": [
      "2000\n"
     ]
    }
   ],
   "source": [
    "matches = []\n",
    "for player in challenger_play.values():\n",
    "    matches.extend(match_v5_matches_bypuuid_puuid_ids(player['puuid']))\n",
    "    \n",
    "print(len(matches))"
   ]
  },
  {
   "cell_type": "markdown",
   "metadata": {},
   "source": [
    "## 2000개 경기 정보 가져오기.\n",
    "1인당 20개씩 총 2000개."
   ]
  },
  {
   "cell_type": "code",
   "execution_count": 144,
   "metadata": {},
   "outputs": [],
   "source": [
    "def match_v5_matches_matchid(matchId):\n",
    "    url = f\"https://asia.api.riotgames.com/lol/match/v5/matches/{matchId}?api_key={api_key}\"\n",
    "    response = requests.get(url)\n",
    "    \n",
    "    if response.status_code == 200 : return response.json()\n",
    "    else : print(f'Error fetching data : {response.status_code}'); return 'error'"
   ]
  },
  {
   "cell_type": "code",
   "execution_count": 145,
   "metadata": {},
   "outputs": [
    {
     "name": "stdout",
     "output_type": "stream",
     "text": [
      "100\n",
      "200\n",
      "300\n",
      "400\n",
      "500\n",
      "600\n",
      "700\n",
      "800\n",
      "900\n",
      "1000\n",
      "1100\n",
      "1200\n",
      "1300\n",
      "1400\n",
      "1500\n",
      "1600\n",
      "1700\n",
      "1800\n",
      "1900\n"
     ]
    },
    {
     "data": {
      "text/plain": [
       "2000"
      ]
     },
     "execution_count": 145,
     "metadata": {},
     "output_type": "execute_result"
    }
   ],
   "source": [
    "import pandas as pd\n",
    "import time\n",
    "\n",
    "result_list = []\n",
    "\n",
    "for i, match in enumerate(matches):\n",
    "    if i % 100 == 0 and i != 0 : print(len(result_list)); time.sleep(121)\n",
    "    m = match_v5_matches_matchid(match)['info']['participants']\n",
    "    if m != 'error':\n",
    "        data = pd.DataFrame(m)\n",
    "        result_list.append(data)\n",
    "\n",
    "len(result_list)"
   ]
  },
  {
   "cell_type": "code",
   "execution_count": 147,
   "metadata": {},
   "outputs": [
    {
     "data": {
      "text/html": [
       "<div>\n",
       "<style scoped>\n",
       "    .dataframe tbody tr th:only-of-type {\n",
       "        vertical-align: middle;\n",
       "    }\n",
       "\n",
       "    .dataframe tbody tr th {\n",
       "        vertical-align: top;\n",
       "    }\n",
       "\n",
       "    .dataframe thead th {\n",
       "        text-align: right;\n",
       "    }\n",
       "</style>\n",
       "<table border=\"1\" class=\"dataframe\">\n",
       "  <thead>\n",
       "    <tr style=\"text-align: right;\">\n",
       "      <th></th>\n",
       "      <th>PlayerScore0</th>\n",
       "      <th>PlayerScore1</th>\n",
       "      <th>PlayerScore10</th>\n",
       "      <th>PlayerScore11</th>\n",
       "      <th>PlayerScore2</th>\n",
       "      <th>PlayerScore3</th>\n",
       "      <th>PlayerScore4</th>\n",
       "      <th>PlayerScore5</th>\n",
       "      <th>PlayerScore6</th>\n",
       "      <th>PlayerScore7</th>\n",
       "      <th>...</th>\n",
       "      <th>turretKills</th>\n",
       "      <th>turretTakedowns</th>\n",
       "      <th>turretsLost</th>\n",
       "      <th>unrealKills</th>\n",
       "      <th>visionClearedPings</th>\n",
       "      <th>visionScore</th>\n",
       "      <th>visionWardsBoughtInGame</th>\n",
       "      <th>wardsKilled</th>\n",
       "      <th>wardsPlaced</th>\n",
       "      <th>win</th>\n",
       "    </tr>\n",
       "  </thead>\n",
       "  <tbody>\n",
       "    <tr>\n",
       "      <th>0</th>\n",
       "      <td>0.0</td>\n",
       "      <td>0.0</td>\n",
       "      <td>0.0</td>\n",
       "      <td>0.0</td>\n",
       "      <td>0.0</td>\n",
       "      <td>0.0</td>\n",
       "      <td>0.0</td>\n",
       "      <td>0.0</td>\n",
       "      <td>0.0</td>\n",
       "      <td>0.0</td>\n",
       "      <td>...</td>\n",
       "      <td>3</td>\n",
       "      <td>5</td>\n",
       "      <td>5</td>\n",
       "      <td>0</td>\n",
       "      <td>0</td>\n",
       "      <td>42</td>\n",
       "      <td>10</td>\n",
       "      <td>9</td>\n",
       "      <td>25</td>\n",
       "      <td>True</td>\n",
       "    </tr>\n",
       "    <tr>\n",
       "      <th>1</th>\n",
       "      <td>0.0</td>\n",
       "      <td>0.0</td>\n",
       "      <td>0.0</td>\n",
       "      <td>0.0</td>\n",
       "      <td>0.0</td>\n",
       "      <td>0.0</td>\n",
       "      <td>0.0</td>\n",
       "      <td>0.0</td>\n",
       "      <td>0.0</td>\n",
       "      <td>0.0</td>\n",
       "      <td>...</td>\n",
       "      <td>0</td>\n",
       "      <td>0</td>\n",
       "      <td>5</td>\n",
       "      <td>0</td>\n",
       "      <td>0</td>\n",
       "      <td>45</td>\n",
       "      <td>6</td>\n",
       "      <td>3</td>\n",
       "      <td>8</td>\n",
       "      <td>True</td>\n",
       "    </tr>\n",
       "    <tr>\n",
       "      <th>2</th>\n",
       "      <td>0.0</td>\n",
       "      <td>0.0</td>\n",
       "      <td>0.0</td>\n",
       "      <td>0.0</td>\n",
       "      <td>0.0</td>\n",
       "      <td>0.0</td>\n",
       "      <td>0.0</td>\n",
       "      <td>0.0</td>\n",
       "      <td>0.0</td>\n",
       "      <td>0.0</td>\n",
       "      <td>...</td>\n",
       "      <td>3</td>\n",
       "      <td>4</td>\n",
       "      <td>5</td>\n",
       "      <td>0</td>\n",
       "      <td>0</td>\n",
       "      <td>30</td>\n",
       "      <td>4</td>\n",
       "      <td>5</td>\n",
       "      <td>9</td>\n",
       "      <td>True</td>\n",
       "    </tr>\n",
       "    <tr>\n",
       "      <th>3</th>\n",
       "      <td>0.0</td>\n",
       "      <td>0.0</td>\n",
       "      <td>0.0</td>\n",
       "      <td>0.0</td>\n",
       "      <td>0.0</td>\n",
       "      <td>0.0</td>\n",
       "      <td>0.0</td>\n",
       "      <td>0.0</td>\n",
       "      <td>0.0</td>\n",
       "      <td>0.0</td>\n",
       "      <td>...</td>\n",
       "      <td>1</td>\n",
       "      <td>3</td>\n",
       "      <td>5</td>\n",
       "      <td>0</td>\n",
       "      <td>0</td>\n",
       "      <td>58</td>\n",
       "      <td>4</td>\n",
       "      <td>9</td>\n",
       "      <td>25</td>\n",
       "      <td>True</td>\n",
       "    </tr>\n",
       "    <tr>\n",
       "      <th>4</th>\n",
       "      <td>0.0</td>\n",
       "      <td>0.0</td>\n",
       "      <td>0.0</td>\n",
       "      <td>0.0</td>\n",
       "      <td>0.0</td>\n",
       "      <td>0.0</td>\n",
       "      <td>0.0</td>\n",
       "      <td>0.0</td>\n",
       "      <td>0.0</td>\n",
       "      <td>0.0</td>\n",
       "      <td>...</td>\n",
       "      <td>1</td>\n",
       "      <td>4</td>\n",
       "      <td>5</td>\n",
       "      <td>0</td>\n",
       "      <td>0</td>\n",
       "      <td>130</td>\n",
       "      <td>22</td>\n",
       "      <td>13</td>\n",
       "      <td>73</td>\n",
       "      <td>True</td>\n",
       "    </tr>\n",
       "    <tr>\n",
       "      <th>...</th>\n",
       "      <td>...</td>\n",
       "      <td>...</td>\n",
       "      <td>...</td>\n",
       "      <td>...</td>\n",
       "      <td>...</td>\n",
       "      <td>...</td>\n",
       "      <td>...</td>\n",
       "      <td>...</td>\n",
       "      <td>...</td>\n",
       "      <td>...</td>\n",
       "      <td>...</td>\n",
       "      <td>...</td>\n",
       "      <td>...</td>\n",
       "      <td>...</td>\n",
       "      <td>...</td>\n",
       "      <td>...</td>\n",
       "      <td>...</td>\n",
       "      <td>...</td>\n",
       "      <td>...</td>\n",
       "      <td>...</td>\n",
       "      <td>...</td>\n",
       "    </tr>\n",
       "    <tr>\n",
       "      <th>19995</th>\n",
       "      <td>0.0</td>\n",
       "      <td>0.0</td>\n",
       "      <td>0.0</td>\n",
       "      <td>0.0</td>\n",
       "      <td>0.0</td>\n",
       "      <td>0.0</td>\n",
       "      <td>0.0</td>\n",
       "      <td>0.0</td>\n",
       "      <td>0.0</td>\n",
       "      <td>0.0</td>\n",
       "      <td>...</td>\n",
       "      <td>0</td>\n",
       "      <td>1</td>\n",
       "      <td>5</td>\n",
       "      <td>0</td>\n",
       "      <td>0</td>\n",
       "      <td>46</td>\n",
       "      <td>3</td>\n",
       "      <td>4</td>\n",
       "      <td>19</td>\n",
       "      <td>True</td>\n",
       "    </tr>\n",
       "    <tr>\n",
       "      <th>19996</th>\n",
       "      <td>0.0</td>\n",
       "      <td>0.0</td>\n",
       "      <td>0.0</td>\n",
       "      <td>0.0</td>\n",
       "      <td>0.0</td>\n",
       "      <td>0.0</td>\n",
       "      <td>0.0</td>\n",
       "      <td>0.0</td>\n",
       "      <td>0.0</td>\n",
       "      <td>0.0</td>\n",
       "      <td>...</td>\n",
       "      <td>1</td>\n",
       "      <td>2</td>\n",
       "      <td>5</td>\n",
       "      <td>0</td>\n",
       "      <td>0</td>\n",
       "      <td>47</td>\n",
       "      <td>4</td>\n",
       "      <td>13</td>\n",
       "      <td>7</td>\n",
       "      <td>True</td>\n",
       "    </tr>\n",
       "    <tr>\n",
       "      <th>19997</th>\n",
       "      <td>0.0</td>\n",
       "      <td>0.0</td>\n",
       "      <td>0.0</td>\n",
       "      <td>0.0</td>\n",
       "      <td>0.0</td>\n",
       "      <td>0.0</td>\n",
       "      <td>0.0</td>\n",
       "      <td>0.0</td>\n",
       "      <td>0.0</td>\n",
       "      <td>0.0</td>\n",
       "      <td>...</td>\n",
       "      <td>4</td>\n",
       "      <td>6</td>\n",
       "      <td>5</td>\n",
       "      <td>0</td>\n",
       "      <td>0</td>\n",
       "      <td>18</td>\n",
       "      <td>3</td>\n",
       "      <td>3</td>\n",
       "      <td>7</td>\n",
       "      <td>True</td>\n",
       "    </tr>\n",
       "    <tr>\n",
       "      <th>19998</th>\n",
       "      <td>0.0</td>\n",
       "      <td>0.0</td>\n",
       "      <td>0.0</td>\n",
       "      <td>0.0</td>\n",
       "      <td>0.0</td>\n",
       "      <td>0.0</td>\n",
       "      <td>0.0</td>\n",
       "      <td>0.0</td>\n",
       "      <td>0.0</td>\n",
       "      <td>0.0</td>\n",
       "      <td>...</td>\n",
       "      <td>4</td>\n",
       "      <td>6</td>\n",
       "      <td>5</td>\n",
       "      <td>0</td>\n",
       "      <td>0</td>\n",
       "      <td>45</td>\n",
       "      <td>6</td>\n",
       "      <td>11</td>\n",
       "      <td>16</td>\n",
       "      <td>True</td>\n",
       "    </tr>\n",
       "    <tr>\n",
       "      <th>19999</th>\n",
       "      <td>0.0</td>\n",
       "      <td>0.0</td>\n",
       "      <td>0.0</td>\n",
       "      <td>0.0</td>\n",
       "      <td>0.0</td>\n",
       "      <td>0.0</td>\n",
       "      <td>0.0</td>\n",
       "      <td>0.0</td>\n",
       "      <td>0.0</td>\n",
       "      <td>0.0</td>\n",
       "      <td>...</td>\n",
       "      <td>0</td>\n",
       "      <td>6</td>\n",
       "      <td>5</td>\n",
       "      <td>0</td>\n",
       "      <td>0</td>\n",
       "      <td>163</td>\n",
       "      <td>21</td>\n",
       "      <td>25</td>\n",
       "      <td>75</td>\n",
       "      <td>True</td>\n",
       "    </tr>\n",
       "  </tbody>\n",
       "</table>\n",
       "<p>20000 rows × 145 columns</p>\n",
       "</div>"
      ],
      "text/plain": [
       "       PlayerScore0  PlayerScore1  PlayerScore10  PlayerScore11  PlayerScore2  \\\n",
       "0               0.0           0.0            0.0            0.0           0.0   \n",
       "1               0.0           0.0            0.0            0.0           0.0   \n",
       "2               0.0           0.0            0.0            0.0           0.0   \n",
       "3               0.0           0.0            0.0            0.0           0.0   \n",
       "4               0.0           0.0            0.0            0.0           0.0   \n",
       "...             ...           ...            ...            ...           ...   \n",
       "19995           0.0           0.0            0.0            0.0           0.0   \n",
       "19996           0.0           0.0            0.0            0.0           0.0   \n",
       "19997           0.0           0.0            0.0            0.0           0.0   \n",
       "19998           0.0           0.0            0.0            0.0           0.0   \n",
       "19999           0.0           0.0            0.0            0.0           0.0   \n",
       "\n",
       "       PlayerScore3  PlayerScore4  PlayerScore5  PlayerScore6  PlayerScore7  \\\n",
       "0               0.0           0.0           0.0           0.0           0.0   \n",
       "1               0.0           0.0           0.0           0.0           0.0   \n",
       "2               0.0           0.0           0.0           0.0           0.0   \n",
       "3               0.0           0.0           0.0           0.0           0.0   \n",
       "4               0.0           0.0           0.0           0.0           0.0   \n",
       "...             ...           ...           ...           ...           ...   \n",
       "19995           0.0           0.0           0.0           0.0           0.0   \n",
       "19996           0.0           0.0           0.0           0.0           0.0   \n",
       "19997           0.0           0.0           0.0           0.0           0.0   \n",
       "19998           0.0           0.0           0.0           0.0           0.0   \n",
       "19999           0.0           0.0           0.0           0.0           0.0   \n",
       "\n",
       "       ...  turretKills  turretTakedowns  turretsLost  unrealKills  \\\n",
       "0      ...            3                5            5            0   \n",
       "1      ...            0                0            5            0   \n",
       "2      ...            3                4            5            0   \n",
       "3      ...            1                3            5            0   \n",
       "4      ...            1                4            5            0   \n",
       "...    ...          ...              ...          ...          ...   \n",
       "19995  ...            0                1            5            0   \n",
       "19996  ...            1                2            5            0   \n",
       "19997  ...            4                6            5            0   \n",
       "19998  ...            4                6            5            0   \n",
       "19999  ...            0                6            5            0   \n",
       "\n",
       "       visionClearedPings  visionScore  visionWardsBoughtInGame  wardsKilled  \\\n",
       "0                       0           42                       10            9   \n",
       "1                       0           45                        6            3   \n",
       "2                       0           30                        4            5   \n",
       "3                       0           58                        4            9   \n",
       "4                       0          130                       22           13   \n",
       "...                   ...          ...                      ...          ...   \n",
       "19995                   0           46                        3            4   \n",
       "19996                   0           47                        4           13   \n",
       "19997                   0           18                        3            3   \n",
       "19998                   0           45                        6           11   \n",
       "19999                   0          163                       21           25   \n",
       "\n",
       "      wardsPlaced   win  \n",
       "0              25  True  \n",
       "1               8  True  \n",
       "2               9  True  \n",
       "3              25  True  \n",
       "4              73  True  \n",
       "...           ...   ...  \n",
       "19995          19  True  \n",
       "19996           7  True  \n",
       "19997           7  True  \n",
       "19998          16  True  \n",
       "19999          75  True  \n",
       "\n",
       "[20000 rows x 145 columns]"
      ]
     },
     "execution_count": 147,
     "metadata": {},
     "output_type": "execute_result"
    }
   ],
   "source": [
    "df2 = pd.concat(result_list, ignore_index = True)\n",
    "df2"
   ]
  },
  {
   "cell_type": "code",
   "execution_count": 148,
   "metadata": {},
   "outputs": [],
   "source": [
    "df2.to_csv('matches_2000.csv', index=False)"
   ]
  },
  {
   "cell_type": "code",
   "execution_count": 150,
   "metadata": {},
   "outputs": [
    {
     "data": {
      "text/plain": [
       "Index(['PlayerScore0', 'PlayerScore1', 'PlayerScore10', 'PlayerScore11',\n",
       "       'PlayerScore2', 'PlayerScore3', 'PlayerScore4', 'PlayerScore5',\n",
       "       'PlayerScore6', 'PlayerScore7',\n",
       "       ...\n",
       "       'turretKills', 'turretTakedowns', 'turretsLost', 'unrealKills',\n",
       "       'visionClearedPings', 'visionScore', 'visionWardsBoughtInGame',\n",
       "       'wardsKilled', 'wardsPlaced', 'win'],\n",
       "      dtype='object', length=145)"
      ]
     },
     "execution_count": 150,
     "metadata": {},
     "output_type": "execute_result"
    }
   ],
   "source": [
    "df2.columns"
   ]
  },
  {
   "cell_type": "markdown",
   "metadata": {},
   "source": [
    "# DATA LOAD"
   ]
  },
  {
   "cell_type": "markdown",
   "metadata": {},
   "source": [
    "## Data Structure 파악하기."
   ]
  },
  {
   "cell_type": "code",
   "execution_count": 2,
   "metadata": {},
   "outputs": [
    {
     "data": {
      "text/html": [
       "<div>\n",
       "<style scoped>\n",
       "    .dataframe tbody tr th:only-of-type {\n",
       "        vertical-align: middle;\n",
       "    }\n",
       "\n",
       "    .dataframe tbody tr th {\n",
       "        vertical-align: top;\n",
       "    }\n",
       "\n",
       "    .dataframe thead th {\n",
       "        text-align: right;\n",
       "    }\n",
       "</style>\n",
       "<table border=\"1\" class=\"dataframe\">\n",
       "  <thead>\n",
       "    <tr style=\"text-align: right;\">\n",
       "      <th></th>\n",
       "      <th>PlayerScore0</th>\n",
       "      <th>PlayerScore1</th>\n",
       "      <th>PlayerScore10</th>\n",
       "      <th>PlayerScore11</th>\n",
       "      <th>PlayerScore2</th>\n",
       "      <th>PlayerScore3</th>\n",
       "      <th>PlayerScore4</th>\n",
       "      <th>PlayerScore5</th>\n",
       "      <th>PlayerScore6</th>\n",
       "      <th>PlayerScore7</th>\n",
       "      <th>...</th>\n",
       "      <th>turretKills</th>\n",
       "      <th>turretTakedowns</th>\n",
       "      <th>turretsLost</th>\n",
       "      <th>unrealKills</th>\n",
       "      <th>visionClearedPings</th>\n",
       "      <th>visionScore</th>\n",
       "      <th>visionWardsBoughtInGame</th>\n",
       "      <th>wardsKilled</th>\n",
       "      <th>wardsPlaced</th>\n",
       "      <th>win</th>\n",
       "    </tr>\n",
       "  </thead>\n",
       "  <tbody>\n",
       "    <tr>\n",
       "      <th>0</th>\n",
       "      <td>0.0</td>\n",
       "      <td>0.0</td>\n",
       "      <td>0.0</td>\n",
       "      <td>0.0</td>\n",
       "      <td>0.0</td>\n",
       "      <td>0.0</td>\n",
       "      <td>0.0</td>\n",
       "      <td>0.0</td>\n",
       "      <td>0.0</td>\n",
       "      <td>0.0</td>\n",
       "      <td>...</td>\n",
       "      <td>3</td>\n",
       "      <td>5</td>\n",
       "      <td>5</td>\n",
       "      <td>0</td>\n",
       "      <td>0</td>\n",
       "      <td>42</td>\n",
       "      <td>10</td>\n",
       "      <td>9</td>\n",
       "      <td>25</td>\n",
       "      <td>True</td>\n",
       "    </tr>\n",
       "    <tr>\n",
       "      <th>1</th>\n",
       "      <td>0.0</td>\n",
       "      <td>0.0</td>\n",
       "      <td>0.0</td>\n",
       "      <td>0.0</td>\n",
       "      <td>0.0</td>\n",
       "      <td>0.0</td>\n",
       "      <td>0.0</td>\n",
       "      <td>0.0</td>\n",
       "      <td>0.0</td>\n",
       "      <td>0.0</td>\n",
       "      <td>...</td>\n",
       "      <td>0</td>\n",
       "      <td>0</td>\n",
       "      <td>5</td>\n",
       "      <td>0</td>\n",
       "      <td>0</td>\n",
       "      <td>45</td>\n",
       "      <td>6</td>\n",
       "      <td>3</td>\n",
       "      <td>8</td>\n",
       "      <td>True</td>\n",
       "    </tr>\n",
       "    <tr>\n",
       "      <th>2</th>\n",
       "      <td>0.0</td>\n",
       "      <td>0.0</td>\n",
       "      <td>0.0</td>\n",
       "      <td>0.0</td>\n",
       "      <td>0.0</td>\n",
       "      <td>0.0</td>\n",
       "      <td>0.0</td>\n",
       "      <td>0.0</td>\n",
       "      <td>0.0</td>\n",
       "      <td>0.0</td>\n",
       "      <td>...</td>\n",
       "      <td>3</td>\n",
       "      <td>4</td>\n",
       "      <td>5</td>\n",
       "      <td>0</td>\n",
       "      <td>0</td>\n",
       "      <td>30</td>\n",
       "      <td>4</td>\n",
       "      <td>5</td>\n",
       "      <td>9</td>\n",
       "      <td>True</td>\n",
       "    </tr>\n",
       "    <tr>\n",
       "      <th>3</th>\n",
       "      <td>0.0</td>\n",
       "      <td>0.0</td>\n",
       "      <td>0.0</td>\n",
       "      <td>0.0</td>\n",
       "      <td>0.0</td>\n",
       "      <td>0.0</td>\n",
       "      <td>0.0</td>\n",
       "      <td>0.0</td>\n",
       "      <td>0.0</td>\n",
       "      <td>0.0</td>\n",
       "      <td>...</td>\n",
       "      <td>1</td>\n",
       "      <td>3</td>\n",
       "      <td>5</td>\n",
       "      <td>0</td>\n",
       "      <td>0</td>\n",
       "      <td>58</td>\n",
       "      <td>4</td>\n",
       "      <td>9</td>\n",
       "      <td>25</td>\n",
       "      <td>True</td>\n",
       "    </tr>\n",
       "    <tr>\n",
       "      <th>4</th>\n",
       "      <td>0.0</td>\n",
       "      <td>0.0</td>\n",
       "      <td>0.0</td>\n",
       "      <td>0.0</td>\n",
       "      <td>0.0</td>\n",
       "      <td>0.0</td>\n",
       "      <td>0.0</td>\n",
       "      <td>0.0</td>\n",
       "      <td>0.0</td>\n",
       "      <td>0.0</td>\n",
       "      <td>...</td>\n",
       "      <td>1</td>\n",
       "      <td>4</td>\n",
       "      <td>5</td>\n",
       "      <td>0</td>\n",
       "      <td>0</td>\n",
       "      <td>130</td>\n",
       "      <td>22</td>\n",
       "      <td>13</td>\n",
       "      <td>73</td>\n",
       "      <td>True</td>\n",
       "    </tr>\n",
       "    <tr>\n",
       "      <th>...</th>\n",
       "      <td>...</td>\n",
       "      <td>...</td>\n",
       "      <td>...</td>\n",
       "      <td>...</td>\n",
       "      <td>...</td>\n",
       "      <td>...</td>\n",
       "      <td>...</td>\n",
       "      <td>...</td>\n",
       "      <td>...</td>\n",
       "      <td>...</td>\n",
       "      <td>...</td>\n",
       "      <td>...</td>\n",
       "      <td>...</td>\n",
       "      <td>...</td>\n",
       "      <td>...</td>\n",
       "      <td>...</td>\n",
       "      <td>...</td>\n",
       "      <td>...</td>\n",
       "      <td>...</td>\n",
       "      <td>...</td>\n",
       "      <td>...</td>\n",
       "    </tr>\n",
       "    <tr>\n",
       "      <th>19995</th>\n",
       "      <td>0.0</td>\n",
       "      <td>0.0</td>\n",
       "      <td>0.0</td>\n",
       "      <td>0.0</td>\n",
       "      <td>0.0</td>\n",
       "      <td>0.0</td>\n",
       "      <td>0.0</td>\n",
       "      <td>0.0</td>\n",
       "      <td>0.0</td>\n",
       "      <td>0.0</td>\n",
       "      <td>...</td>\n",
       "      <td>0</td>\n",
       "      <td>1</td>\n",
       "      <td>5</td>\n",
       "      <td>0</td>\n",
       "      <td>0</td>\n",
       "      <td>46</td>\n",
       "      <td>3</td>\n",
       "      <td>4</td>\n",
       "      <td>19</td>\n",
       "      <td>True</td>\n",
       "    </tr>\n",
       "    <tr>\n",
       "      <th>19996</th>\n",
       "      <td>0.0</td>\n",
       "      <td>0.0</td>\n",
       "      <td>0.0</td>\n",
       "      <td>0.0</td>\n",
       "      <td>0.0</td>\n",
       "      <td>0.0</td>\n",
       "      <td>0.0</td>\n",
       "      <td>0.0</td>\n",
       "      <td>0.0</td>\n",
       "      <td>0.0</td>\n",
       "      <td>...</td>\n",
       "      <td>1</td>\n",
       "      <td>2</td>\n",
       "      <td>5</td>\n",
       "      <td>0</td>\n",
       "      <td>0</td>\n",
       "      <td>47</td>\n",
       "      <td>4</td>\n",
       "      <td>13</td>\n",
       "      <td>7</td>\n",
       "      <td>True</td>\n",
       "    </tr>\n",
       "    <tr>\n",
       "      <th>19997</th>\n",
       "      <td>0.0</td>\n",
       "      <td>0.0</td>\n",
       "      <td>0.0</td>\n",
       "      <td>0.0</td>\n",
       "      <td>0.0</td>\n",
       "      <td>0.0</td>\n",
       "      <td>0.0</td>\n",
       "      <td>0.0</td>\n",
       "      <td>0.0</td>\n",
       "      <td>0.0</td>\n",
       "      <td>...</td>\n",
       "      <td>4</td>\n",
       "      <td>6</td>\n",
       "      <td>5</td>\n",
       "      <td>0</td>\n",
       "      <td>0</td>\n",
       "      <td>18</td>\n",
       "      <td>3</td>\n",
       "      <td>3</td>\n",
       "      <td>7</td>\n",
       "      <td>True</td>\n",
       "    </tr>\n",
       "    <tr>\n",
       "      <th>19998</th>\n",
       "      <td>0.0</td>\n",
       "      <td>0.0</td>\n",
       "      <td>0.0</td>\n",
       "      <td>0.0</td>\n",
       "      <td>0.0</td>\n",
       "      <td>0.0</td>\n",
       "      <td>0.0</td>\n",
       "      <td>0.0</td>\n",
       "      <td>0.0</td>\n",
       "      <td>0.0</td>\n",
       "      <td>...</td>\n",
       "      <td>4</td>\n",
       "      <td>6</td>\n",
       "      <td>5</td>\n",
       "      <td>0</td>\n",
       "      <td>0</td>\n",
       "      <td>45</td>\n",
       "      <td>6</td>\n",
       "      <td>11</td>\n",
       "      <td>16</td>\n",
       "      <td>True</td>\n",
       "    </tr>\n",
       "    <tr>\n",
       "      <th>19999</th>\n",
       "      <td>0.0</td>\n",
       "      <td>0.0</td>\n",
       "      <td>0.0</td>\n",
       "      <td>0.0</td>\n",
       "      <td>0.0</td>\n",
       "      <td>0.0</td>\n",
       "      <td>0.0</td>\n",
       "      <td>0.0</td>\n",
       "      <td>0.0</td>\n",
       "      <td>0.0</td>\n",
       "      <td>...</td>\n",
       "      <td>0</td>\n",
       "      <td>6</td>\n",
       "      <td>5</td>\n",
       "      <td>0</td>\n",
       "      <td>0</td>\n",
       "      <td>163</td>\n",
       "      <td>21</td>\n",
       "      <td>25</td>\n",
       "      <td>75</td>\n",
       "      <td>True</td>\n",
       "    </tr>\n",
       "  </tbody>\n",
       "</table>\n",
       "<p>20000 rows × 145 columns</p>\n",
       "</div>"
      ],
      "text/plain": [
       "       PlayerScore0  PlayerScore1  PlayerScore10  PlayerScore11  PlayerScore2  \\\n",
       "0               0.0           0.0            0.0            0.0           0.0   \n",
       "1               0.0           0.0            0.0            0.0           0.0   \n",
       "2               0.0           0.0            0.0            0.0           0.0   \n",
       "3               0.0           0.0            0.0            0.0           0.0   \n",
       "4               0.0           0.0            0.0            0.0           0.0   \n",
       "...             ...           ...            ...            ...           ...   \n",
       "19995           0.0           0.0            0.0            0.0           0.0   \n",
       "19996           0.0           0.0            0.0            0.0           0.0   \n",
       "19997           0.0           0.0            0.0            0.0           0.0   \n",
       "19998           0.0           0.0            0.0            0.0           0.0   \n",
       "19999           0.0           0.0            0.0            0.0           0.0   \n",
       "\n",
       "       PlayerScore3  PlayerScore4  PlayerScore5  PlayerScore6  PlayerScore7  \\\n",
       "0               0.0           0.0           0.0           0.0           0.0   \n",
       "1               0.0           0.0           0.0           0.0           0.0   \n",
       "2               0.0           0.0           0.0           0.0           0.0   \n",
       "3               0.0           0.0           0.0           0.0           0.0   \n",
       "4               0.0           0.0           0.0           0.0           0.0   \n",
       "...             ...           ...           ...           ...           ...   \n",
       "19995           0.0           0.0           0.0           0.0           0.0   \n",
       "19996           0.0           0.0           0.0           0.0           0.0   \n",
       "19997           0.0           0.0           0.0           0.0           0.0   \n",
       "19998           0.0           0.0           0.0           0.0           0.0   \n",
       "19999           0.0           0.0           0.0           0.0           0.0   \n",
       "\n",
       "       ...  turretKills  turretTakedowns  turretsLost  unrealKills  \\\n",
       "0      ...            3                5            5            0   \n",
       "1      ...            0                0            5            0   \n",
       "2      ...            3                4            5            0   \n",
       "3      ...            1                3            5            0   \n",
       "4      ...            1                4            5            0   \n",
       "...    ...          ...              ...          ...          ...   \n",
       "19995  ...            0                1            5            0   \n",
       "19996  ...            1                2            5            0   \n",
       "19997  ...            4                6            5            0   \n",
       "19998  ...            4                6            5            0   \n",
       "19999  ...            0                6            5            0   \n",
       "\n",
       "       visionClearedPings  visionScore  visionWardsBoughtInGame  wardsKilled  \\\n",
       "0                       0           42                       10            9   \n",
       "1                       0           45                        6            3   \n",
       "2                       0           30                        4            5   \n",
       "3                       0           58                        4            9   \n",
       "4                       0          130                       22           13   \n",
       "...                   ...          ...                      ...          ...   \n",
       "19995                   0           46                        3            4   \n",
       "19996                   0           47                        4           13   \n",
       "19997                   0           18                        3            3   \n",
       "19998                   0           45                        6           11   \n",
       "19999                   0          163                       21           25   \n",
       "\n",
       "      wardsPlaced   win  \n",
       "0              25  True  \n",
       "1               8  True  \n",
       "2               9  True  \n",
       "3              25  True  \n",
       "4              73  True  \n",
       "...           ...   ...  \n",
       "19995          19  True  \n",
       "19996           7  True  \n",
       "19997           7  True  \n",
       "19998          16  True  \n",
       "19999          75  True  \n",
       "\n",
       "[20000 rows x 145 columns]"
      ]
     },
     "execution_count": 2,
     "metadata": {},
     "output_type": "execute_result"
    }
   ],
   "source": [
    "import pandas as pd\n",
    "\n",
    "df = pd.read_csv('matches_2000.csv')\n",
    "df"
   ]
  },
  {
   "cell_type": "code",
   "execution_count": 3,
   "metadata": {},
   "outputs": [
    {
     "data": {
      "text/plain": [
       "(9, 12, 133)"
      ]
     },
     "execution_count": 3,
     "metadata": {},
     "output_type": "execute_result"
    }
   ],
   "source": [
    "cols_bool = df.select_dtypes(include = 'bool').columns\n",
    "cols_object = df.select_dtypes(include = 'O').columns\n",
    "cols_num = df.select_dtypes(exclude = 'O').columns\n",
    "len(cols_bool), len(cols_object), len(cols_num)"
   ]
  },
  {
   "cell_type": "code",
   "execution_count": 4,
   "metadata": {},
   "outputs": [
    {
     "name": "stdout",
     "output_type": "stream",
     "text": [
      "<class 'pandas.core.frame.DataFrame'>\n",
      "RangeIndex: 20000 entries, 0 to 19999\n",
      "Columns: 145 entries, PlayerScore0 to win\n",
      "dtypes: bool(9), float64(13), int64(111), object(12)\n",
      "memory usage: 20.9+ MB\n"
     ]
    }
   ],
   "source": [
    "df.info()"
   ]
  },
  {
   "cell_type": "code",
   "execution_count": 5,
   "metadata": {},
   "outputs": [
    {
     "name": "stdout",
     "output_type": "stream",
     "text": [
      "<class 'pandas.core.frame.DataFrame'>\n",
      "RangeIndex: 20000 entries, 0 to 19999\n",
      "Data columns (total 12 columns):\n",
      " #   Column              Non-Null Count  Dtype \n",
      "---  ------              --------------  ----- \n",
      " 0   challenges          19390 non-null  object\n",
      " 1   championName        20000 non-null  object\n",
      " 2   individualPosition  20000 non-null  object\n",
      " 3   lane                20000 non-null  object\n",
      " 4   missions            20000 non-null  object\n",
      " 5   perks               20000 non-null  object\n",
      " 6   puuid               20000 non-null  object\n",
      " 7   riotIdGameName      20000 non-null  object\n",
      " 8   riotIdTagline       20000 non-null  object\n",
      " 9   role                20000 non-null  object\n",
      " 10  summonerId          20000 non-null  object\n",
      " 11  teamPosition        18495 non-null  object\n",
      "dtypes: object(12)\n",
      "memory usage: 1.8+ MB\n"
     ]
    }
   ],
   "source": [
    "df[cols_object].info()"
   ]
  },
  {
   "cell_type": "code",
   "execution_count": 6,
   "metadata": {},
   "outputs": [
    {
     "data": {
      "text/html": [
       "<div>\n",
       "<style scoped>\n",
       "    .dataframe tbody tr th:only-of-type {\n",
       "        vertical-align: middle;\n",
       "    }\n",
       "\n",
       "    .dataframe tbody tr th {\n",
       "        vertical-align: top;\n",
       "    }\n",
       "\n",
       "    .dataframe thead th {\n",
       "        text-align: right;\n",
       "    }\n",
       "</style>\n",
       "<table border=\"1\" class=\"dataframe\">\n",
       "  <thead>\n",
       "    <tr style=\"text-align: right;\">\n",
       "      <th></th>\n",
       "      <th>challenges</th>\n",
       "      <th>championName</th>\n",
       "      <th>individualPosition</th>\n",
       "      <th>lane</th>\n",
       "      <th>missions</th>\n",
       "      <th>perks</th>\n",
       "      <th>puuid</th>\n",
       "      <th>riotIdGameName</th>\n",
       "      <th>riotIdTagline</th>\n",
       "      <th>role</th>\n",
       "      <th>summonerId</th>\n",
       "      <th>teamPosition</th>\n",
       "    </tr>\n",
       "  </thead>\n",
       "  <tbody>\n",
       "    <tr>\n",
       "      <th>count</th>\n",
       "      <td>19390</td>\n",
       "      <td>20000</td>\n",
       "      <td>20000</td>\n",
       "      <td>20000</td>\n",
       "      <td>20000</td>\n",
       "      <td>20000</td>\n",
       "      <td>20000</td>\n",
       "      <td>20000</td>\n",
       "      <td>20000</td>\n",
       "      <td>20000</td>\n",
       "      <td>20000</td>\n",
       "      <td>18495</td>\n",
       "    </tr>\n",
       "    <tr>\n",
       "      <th>unique</th>\n",
       "      <td>12220</td>\n",
       "      <td>170</td>\n",
       "      <td>6</td>\n",
       "      <td>5</td>\n",
       "      <td>1</td>\n",
       "      <td>12799</td>\n",
       "      <td>2826</td>\n",
       "      <td>2820</td>\n",
       "      <td>1227</td>\n",
       "      <td>5</td>\n",
       "      <td>2826</td>\n",
       "      <td>5</td>\n",
       "    </tr>\n",
       "    <tr>\n",
       "      <th>top</th>\n",
       "      <td>{'12AssistStreakCount': 0, 'HealFromMapSources...</td>\n",
       "      <td>Ezreal</td>\n",
       "      <td>JUNGLE</td>\n",
       "      <td>NONE</td>\n",
       "      <td>{'playerScore0': 0, 'playerScore1': 0, 'player...</td>\n",
       "      <td>{'statPerks': {'defense': 5011, 'flex': 5008, ...</td>\n",
       "      <td>cduU6SCOLexhaOhH4OPdCyJK6o6qJUGN_ByvBBcX2WjB4p...</td>\n",
       "      <td>Parukia</td>\n",
       "      <td>KR1</td>\n",
       "      <td>SUPPORT</td>\n",
       "      <td>tNL8X41ZMmu4w1dEp8v8GUJkC8zUTcCqozqQVBxijdy6bT...</td>\n",
       "      <td>MIDDLE</td>\n",
       "    </tr>\n",
       "    <tr>\n",
       "      <th>freq</th>\n",
       "      <td>9</td>\n",
       "      <td>829</td>\n",
       "      <td>4082</td>\n",
       "      <td>5660</td>\n",
       "      <td>20000</td>\n",
       "      <td>9</td>\n",
       "      <td>141</td>\n",
       "      <td>141</td>\n",
       "      <td>5235</td>\n",
       "      <td>8598</td>\n",
       "      <td>141</td>\n",
       "      <td>3700</td>\n",
       "    </tr>\n",
       "  </tbody>\n",
       "</table>\n",
       "</div>"
      ],
      "text/plain": [
       "                                               challenges championName  \\\n",
       "count                                               19390        20000   \n",
       "unique                                              12220          170   \n",
       "top     {'12AssistStreakCount': 0, 'HealFromMapSources...       Ezreal   \n",
       "freq                                                    9          829   \n",
       "\n",
       "       individualPosition   lane  \\\n",
       "count               20000  20000   \n",
       "unique                  6      5   \n",
       "top                JUNGLE   NONE   \n",
       "freq                 4082   5660   \n",
       "\n",
       "                                                 missions  \\\n",
       "count                                               20000   \n",
       "unique                                                  1   \n",
       "top     {'playerScore0': 0, 'playerScore1': 0, 'player...   \n",
       "freq                                                20000   \n",
       "\n",
       "                                                    perks  \\\n",
       "count                                               20000   \n",
       "unique                                              12799   \n",
       "top     {'statPerks': {'defense': 5011, 'flex': 5008, ...   \n",
       "freq                                                    9   \n",
       "\n",
       "                                                    puuid riotIdGameName  \\\n",
       "count                                               20000          20000   \n",
       "unique                                               2826           2820   \n",
       "top     cduU6SCOLexhaOhH4OPdCyJK6o6qJUGN_ByvBBcX2WjB4p...        Parukia   \n",
       "freq                                                  141            141   \n",
       "\n",
       "       riotIdTagline     role  \\\n",
       "count          20000    20000   \n",
       "unique          1227        5   \n",
       "top              KR1  SUPPORT   \n",
       "freq            5235     8598   \n",
       "\n",
       "                                               summonerId teamPosition  \n",
       "count                                               20000        18495  \n",
       "unique                                               2826            5  \n",
       "top     tNL8X41ZMmu4w1dEp8v8GUJkC8zUTcCqozqQVBxijdy6bT...       MIDDLE  \n",
       "freq                                                  141         3700  "
      ]
     },
     "execution_count": 6,
     "metadata": {},
     "output_type": "execute_result"
    }
   ],
   "source": [
    "df.describe(include = 'O')"
   ]
  },
  {
   "cell_type": "code",
   "execution_count": 7,
   "metadata": {},
   "outputs": [
    {
     "data": {
      "text/plain": [
       "array(['TOP', 'JUNGLE', 'MIDDLE', 'BOTTOM', 'UTILITY', nan], dtype=object)"
      ]
     },
     "execution_count": 7,
     "metadata": {},
     "output_type": "execute_result"
    }
   ],
   "source": [
    "df.teamPosition.unique()"
   ]
  },
  {
   "cell_type": "code",
   "execution_count": 8,
   "metadata": {},
   "outputs": [
    {
     "data": {
      "text/html": [
       "<div>\n",
       "<style scoped>\n",
       "    .dataframe tbody tr th:only-of-type {\n",
       "        vertical-align: middle;\n",
       "    }\n",
       "\n",
       "    .dataframe tbody tr th {\n",
       "        vertical-align: top;\n",
       "    }\n",
       "\n",
       "    .dataframe thead th {\n",
       "        text-align: right;\n",
       "    }\n",
       "</style>\n",
       "<table border=\"1\" class=\"dataframe\">\n",
       "  <thead>\n",
       "    <tr style=\"text-align: right;\">\n",
       "      <th></th>\n",
       "      <th>count</th>\n",
       "    </tr>\n",
       "    <tr>\n",
       "      <th>teamPosition</th>\n",
       "      <th></th>\n",
       "    </tr>\n",
       "  </thead>\n",
       "  <tbody>\n",
       "    <tr>\n",
       "      <th>MIDDLE</th>\n",
       "      <td>3700</td>\n",
       "    </tr>\n",
       "    <tr>\n",
       "      <th>UTILITY</th>\n",
       "      <td>3700</td>\n",
       "    </tr>\n",
       "    <tr>\n",
       "      <th>BOTTOM</th>\n",
       "      <td>3699</td>\n",
       "    </tr>\n",
       "    <tr>\n",
       "      <th>TOP</th>\n",
       "      <td>3698</td>\n",
       "    </tr>\n",
       "    <tr>\n",
       "      <th>JUNGLE</th>\n",
       "      <td>3698</td>\n",
       "    </tr>\n",
       "  </tbody>\n",
       "</table>\n",
       "</div>"
      ],
      "text/plain": [
       "              count\n",
       "teamPosition       \n",
       "MIDDLE         3700\n",
       "UTILITY        3700\n",
       "BOTTOM         3699\n",
       "TOP            3698\n",
       "JUNGLE         3698"
      ]
     },
     "metadata": {},
     "output_type": "display_data"
    }
   ],
   "source": [
    "display(df.teamPosition.value_counts().to_frame())"
   ]
  },
  {
   "cell_type": "markdown",
   "metadata": {},
   "source": [
    "# Preprocessing"
   ]
  },
  {
   "cell_type": "markdown",
   "metadata": {},
   "source": [
    "## 안 쓰는 컬럼 제거"
   ]
  },
  {
   "cell_type": "code",
   "execution_count": 9,
   "metadata": {},
   "outputs": [
    {
     "name": "stdout",
     "output_type": "stream",
     "text": [
      "Index(['PlayerScore0', 'PlayerScore1', 'PlayerScore10', 'PlayerScore11',\n",
      "       'PlayerScore2', 'PlayerScore3', 'PlayerScore4', 'PlayerScore5',\n",
      "       'PlayerScore6', 'PlayerScore7',\n",
      "       ...\n",
      "       'turretKills', 'turretTakedowns', 'turretsLost', 'unrealKills',\n",
      "       'visionClearedPings', 'visionScore', 'visionWardsBoughtInGame',\n",
      "       'wardsKilled', 'wardsPlaced', 'win'],\n",
      "      dtype='object', length=133)\n"
     ]
    }
   ],
   "source": [
    "print(cols_num)\n",
    "df.drop(columns = [col for col in df.columns if col.startswith('PlayerScore')], inplace=True)"
   ]
  },
  {
   "cell_type": "code",
   "execution_count": 10,
   "metadata": {},
   "outputs": [],
   "source": [
    "df.drop('summonerName', axis = 1, inplace=True)"
   ]
  },
  {
   "cell_type": "code",
   "execution_count": 11,
   "metadata": {},
   "outputs": [],
   "source": [
    "# object type의 columns 중 id 등 쓰지 않는 columns 따로 빼둠.\n",
    "drop_id_info = df.drop(columns = ['puuid', 'riotIdGameName','riotIdTagline','summonerId'], axis = 1, inplace = True)"
   ]
  },
  {
   "cell_type": "code",
   "execution_count": 12,
   "metadata": {},
   "outputs": [
    {
     "data": {
      "text/plain": [
       "(20000, 128)"
      ]
     },
     "execution_count": 12,
     "metadata": {},
     "output_type": "execute_result"
    }
   ],
   "source": [
    "df.shape"
   ]
  },
  {
   "cell_type": "code",
   "execution_count": 13,
   "metadata": {},
   "outputs": [
    {
     "data": {
      "text/plain": [
       "(9, 8, 111)"
      ]
     },
     "execution_count": 13,
     "metadata": {},
     "output_type": "execute_result"
    }
   ],
   "source": [
    "cols_bool = df.select_dtypes(include = 'bool').columns\n",
    "cols_object = df.select_dtypes(include = 'O').columns\n",
    "cols_num = df.select_dtypes(include = 'int64').columns\n",
    "len(cols_bool), len(cols_object), len(cols_num)"
   ]
  },
  {
   "cell_type": "markdown",
   "metadata": {},
   "source": [
    "## Information of Each Data Type"
   ]
  },
  {
   "cell_type": "code",
   "execution_count": 14,
   "metadata": {},
   "outputs": [
    {
     "name": "stdout",
     "output_type": "stream",
     "text": [
      "<class 'pandas.core.frame.DataFrame'>\n",
      "RangeIndex: 20000 entries, 0 to 19999\n",
      "Data columns (total 111 columns):\n",
      " #    Column                          Non-Null Count  Dtype\n",
      "---   ------                          --------------  -----\n",
      " 0    allInPings                      20000 non-null  int64\n",
      " 1    assistMePings                   20000 non-null  int64\n",
      " 2    assists                         20000 non-null  int64\n",
      " 3    baronKills                      20000 non-null  int64\n",
      " 4    basicPings                      20000 non-null  int64\n",
      " 5    bountyLevel                     20000 non-null  int64\n",
      " 6    champExperience                 20000 non-null  int64\n",
      " 7    champLevel                      20000 non-null  int64\n",
      " 8    championId                      20000 non-null  int64\n",
      " 9    championTransform               20000 non-null  int64\n",
      " 10   commandPings                    20000 non-null  int64\n",
      " 11   consumablesPurchased            20000 non-null  int64\n",
      " 12   damageDealtToBuildings          20000 non-null  int64\n",
      " 13   damageDealtToObjectives         20000 non-null  int64\n",
      " 14   damageDealtToTurrets            20000 non-null  int64\n",
      " 15   damageSelfMitigated             20000 non-null  int64\n",
      " 16   dangerPings                     20000 non-null  int64\n",
      " 17   deaths                          20000 non-null  int64\n",
      " 18   detectorWardsPlaced             20000 non-null  int64\n",
      " 19   doubleKills                     20000 non-null  int64\n",
      " 20   dragonKills                     20000 non-null  int64\n",
      " 21   enemyMissingPings               20000 non-null  int64\n",
      " 22   enemyVisionPings                20000 non-null  int64\n",
      " 23   getBackPings                    20000 non-null  int64\n",
      " 24   goldEarned                      20000 non-null  int64\n",
      " 25   goldSpent                       20000 non-null  int64\n",
      " 26   holdPings                       20000 non-null  int64\n",
      " 27   inhibitorKills                  20000 non-null  int64\n",
      " 28   inhibitorTakedowns              20000 non-null  int64\n",
      " 29   inhibitorsLost                  20000 non-null  int64\n",
      " 30   item0                           20000 non-null  int64\n",
      " 31   item1                           20000 non-null  int64\n",
      " 32   item2                           20000 non-null  int64\n",
      " 33   item3                           20000 non-null  int64\n",
      " 34   item4                           20000 non-null  int64\n",
      " 35   item5                           20000 non-null  int64\n",
      " 36   item6                           20000 non-null  int64\n",
      " 37   itemsPurchased                  20000 non-null  int64\n",
      " 38   killingSprees                   20000 non-null  int64\n",
      " 39   kills                           20000 non-null  int64\n",
      " 40   largestCriticalStrike           20000 non-null  int64\n",
      " 41   largestKillingSpree             20000 non-null  int64\n",
      " 42   largestMultiKill                20000 non-null  int64\n",
      " 43   longestTimeSpentLiving          20000 non-null  int64\n",
      " 44   magicDamageDealt                20000 non-null  int64\n",
      " 45   magicDamageDealtToChampions     20000 non-null  int64\n",
      " 46   magicDamageTaken                20000 non-null  int64\n",
      " 47   needVisionPings                 20000 non-null  int64\n",
      " 48   neutralMinionsKilled            20000 non-null  int64\n",
      " 49   nexusKills                      20000 non-null  int64\n",
      " 50   nexusLost                       20000 non-null  int64\n",
      " 51   nexusTakedowns                  20000 non-null  int64\n",
      " 52   objectivesStolen                20000 non-null  int64\n",
      " 53   objectivesStolenAssists         20000 non-null  int64\n",
      " 54   onMyWayPings                    20000 non-null  int64\n",
      " 55   participantId                   20000 non-null  int64\n",
      " 56   pentaKills                      20000 non-null  int64\n",
      " 57   physicalDamageDealt             20000 non-null  int64\n",
      " 58   physicalDamageDealtToChampions  20000 non-null  int64\n",
      " 59   physicalDamageTaken             20000 non-null  int64\n",
      " 60   placement                       20000 non-null  int64\n",
      " 61   playerAugment1                  20000 non-null  int64\n",
      " 62   playerAugment2                  20000 non-null  int64\n",
      " 63   playerAugment3                  20000 non-null  int64\n",
      " 64   playerAugment4                  20000 non-null  int64\n",
      " 65   playerAugment5                  20000 non-null  int64\n",
      " 66   playerAugment6                  20000 non-null  int64\n",
      " 67   playerSubteamId                 20000 non-null  int64\n",
      " 68   profileIcon                     20000 non-null  int64\n",
      " 69   pushPings                       20000 non-null  int64\n",
      " 70   quadraKills                     20000 non-null  int64\n",
      " 71   retreatPings                    20000 non-null  int64\n",
      " 72   sightWardsBoughtInGame          20000 non-null  int64\n",
      " 73   spell1Casts                     20000 non-null  int64\n",
      " 74   spell2Casts                     20000 non-null  int64\n",
      " 75   spell3Casts                     20000 non-null  int64\n",
      " 76   spell4Casts                     20000 non-null  int64\n",
      " 77   subteamPlacement                20000 non-null  int64\n",
      " 78   summoner1Casts                  20000 non-null  int64\n",
      " 79   summoner1Id                     20000 non-null  int64\n",
      " 80   summoner2Casts                  20000 non-null  int64\n",
      " 81   summoner2Id                     20000 non-null  int64\n",
      " 82   summonerLevel                   20000 non-null  int64\n",
      " 83   teamId                          20000 non-null  int64\n",
      " 84   timeCCingOthers                 20000 non-null  int64\n",
      " 85   timePlayed                      20000 non-null  int64\n",
      " 86   totalAllyJungleMinionsKilled    20000 non-null  int64\n",
      " 87   totalDamageDealt                20000 non-null  int64\n",
      " 88   totalDamageDealtToChampions     20000 non-null  int64\n",
      " 89   totalDamageShieldedOnTeammates  20000 non-null  int64\n",
      " 90   totalDamageTaken                20000 non-null  int64\n",
      " 91   totalEnemyJungleMinionsKilled   20000 non-null  int64\n",
      " 92   totalHeal                       20000 non-null  int64\n",
      " 93   totalHealsOnTeammates           20000 non-null  int64\n",
      " 94   totalMinionsKilled              20000 non-null  int64\n",
      " 95   totalTimeCCDealt                20000 non-null  int64\n",
      " 96   totalTimeSpentDead              20000 non-null  int64\n",
      " 97   totalUnitsHealed                20000 non-null  int64\n",
      " 98   tripleKills                     20000 non-null  int64\n",
      " 99   trueDamageDealt                 20000 non-null  int64\n",
      " 100  trueDamageDealtToChampions      20000 non-null  int64\n",
      " 101  trueDamageTaken                 20000 non-null  int64\n",
      " 102  turretKills                     20000 non-null  int64\n",
      " 103  turretTakedowns                 20000 non-null  int64\n",
      " 104  turretsLost                     20000 non-null  int64\n",
      " 105  unrealKills                     20000 non-null  int64\n",
      " 106  visionClearedPings              20000 non-null  int64\n",
      " 107  visionScore                     20000 non-null  int64\n",
      " 108  visionWardsBoughtInGame         20000 non-null  int64\n",
      " 109  wardsKilled                     20000 non-null  int64\n",
      " 110  wardsPlaced                     20000 non-null  int64\n",
      "dtypes: int64(111)\n",
      "memory usage: 16.9 MB\n"
     ]
    }
   ],
   "source": [
    "# Number Type\n",
    "pd.set_option('display.max_info_columns', 200)\n",
    "df[cols_num].info()"
   ]
  },
  {
   "cell_type": "code",
   "execution_count": 15,
   "metadata": {},
   "outputs": [
    {
     "name": "stdout",
     "output_type": "stream",
     "text": [
      "<class 'pandas.core.frame.DataFrame'>\n",
      "RangeIndex: 20000 entries, 0 to 19999\n",
      "Data columns (total 8 columns):\n",
      " #   Column              Non-Null Count  Dtype \n",
      "---  ------              --------------  ----- \n",
      " 0   challenges          19390 non-null  object\n",
      " 1   championName        20000 non-null  object\n",
      " 2   individualPosition  20000 non-null  object\n",
      " 3   lane                20000 non-null  object\n",
      " 4   missions            20000 non-null  object\n",
      " 5   perks               20000 non-null  object\n",
      " 6   role                20000 non-null  object\n",
      " 7   teamPosition        18495 non-null  object\n",
      "dtypes: object(8)\n",
      "memory usage: 1.2+ MB\n"
     ]
    }
   ],
   "source": [
    "# Object Type\n",
    "df[cols_object].info()"
   ]
  },
  {
   "cell_type": "code",
   "execution_count": 16,
   "metadata": {},
   "outputs": [
    {
     "name": "stdout",
     "output_type": "stream",
     "text": [
      "<class 'pandas.core.frame.DataFrame'>\n",
      "RangeIndex: 20000 entries, 0 to 19999\n",
      "Data columns (total 9 columns):\n",
      " #   Column                     Non-Null Count  Dtype\n",
      "---  ------                     --------------  -----\n",
      " 0   eligibleForProgression     20000 non-null  bool \n",
      " 1   firstBloodAssist           20000 non-null  bool \n",
      " 2   firstBloodKill             20000 non-null  bool \n",
      " 3   firstTowerAssist           20000 non-null  bool \n",
      " 4   firstTowerKill             20000 non-null  bool \n",
      " 5   gameEndedInEarlySurrender  20000 non-null  bool \n",
      " 6   gameEndedInSurrender       20000 non-null  bool \n",
      " 7   teamEarlySurrendered       20000 non-null  bool \n",
      " 8   win                        20000 non-null  bool \n",
      "dtypes: bool(9)\n",
      "memory usage: 175.9 KB\n"
     ]
    }
   ],
   "source": [
    "# Boolean Type\n",
    "df[cols_bool].info()"
   ]
  },
  {
   "cell_type": "code",
   "execution_count": 17,
   "metadata": {},
   "outputs": [
    {
     "data": {
      "text/plain": [
       "allInPings             0\n",
       "summoner1Casts         0\n",
       "subteamPlacement       0\n",
       "spell4Casts            0\n",
       "spell3Casts            0\n",
       "                    ... \n",
       "item4                  0\n",
       "inhibitorsLost         0\n",
       "win                    0\n",
       "challenges           610\n",
       "teamPosition        1505\n",
       "Length: 128, dtype: int64"
      ]
     },
     "execution_count": 17,
     "metadata": {},
     "output_type": "execute_result"
    }
   ],
   "source": [
    "df.isna().sum().sort_values()"
   ]
  },
  {
   "cell_type": "markdown",
   "metadata": {},
   "source": [
    "## 유의미한 Columns 추출."
   ]
  },
  {
   "cell_type": "code",
   "execution_count": 18,
   "metadata": {},
   "outputs": [
    {
     "data": {
      "text/plain": [
       "win                              1.000000\n",
       "nexusLost                        0.986839\n",
       "turretsLost                      0.625210\n",
       "turretTakedowns                  0.512814\n",
       "inhibitorsLost                   0.469568\n",
       "                                   ...   \n",
       "sightWardsBoughtInGame                NaN\n",
       "subteamPlacement                      NaN\n",
       "totalAllyJungleMinionsKilled          NaN\n",
       "totalEnemyJungleMinionsKilled         NaN\n",
       "visionClearedPings                    NaN\n",
       "Name: win, Length: 120, dtype: float64"
      ]
     },
     "metadata": {},
     "output_type": "display_data"
    },
    {
     "name": "stdout",
     "output_type": "stream",
     "text": [
      "11\n"
     ]
    },
    {
     "data": {
      "text/plain": [
       "['nexusLost',\n",
       " 'turretsLost',\n",
       " 'turretTakedowns',\n",
       " 'inhibitorsLost',\n",
       " 'nexusTakedowns',\n",
       " 'inhibitorTakedowns',\n",
       " 'deaths',\n",
       " 'damageDealtToBuildings',\n",
       " 'damageDealtToTurrets',\n",
       " 'turretKills',\n",
       " 'largestKillingSpree']"
      ]
     },
     "execution_count": 18,
     "metadata": {},
     "output_type": "execute_result"
    }
   ],
   "source": [
    "# Number, Boolean Type\n",
    "df_corr_win = df.corr(numeric_only=True).win.abs().sort_values(ascending = False)\n",
    "\n",
    "display(df_corr_win)\n",
    "print(sum(df_corr_win > 0.3) - 1) # win 자기 자신 제외한 개수.\n",
    "useful_cols = df_corr_win[df_corr_win > 0.3].index.tolist()[1:]\n",
    "useful_cols"
   ]
  },
  {
   "cell_type": "code",
   "execution_count": 19,
   "metadata": {},
   "outputs": [
    {
     "data": {
      "text/plain": [
       "Index(['challenges', 'championName', 'individualPosition', 'lane', 'missions',\n",
       "       'perks', 'role', 'teamPosition'],\n",
       "      dtype='object')"
      ]
     },
     "execution_count": 19,
     "metadata": {},
     "output_type": "execute_result"
    }
   ],
   "source": [
    "cols_object"
   ]
  },
  {
   "cell_type": "code",
   "execution_count": 20,
   "metadata": {},
   "outputs": [
    {
     "data": {
      "text/plain": [
       "['nexusLost',\n",
       " 'turretsLost',\n",
       " 'turretTakedowns',\n",
       " 'inhibitorsLost',\n",
       " 'nexusTakedowns',\n",
       " 'inhibitorTakedowns',\n",
       " 'deaths',\n",
       " 'damageDealtToBuildings',\n",
       " 'damageDealtToTurrets',\n",
       " 'turretKills',\n",
       " 'largestKillingSpree',\n",
       " 'championName',\n",
       " 'individualPosition',\n",
       " 'lane',\n",
       " 'role',\n",
       " 'teamPosition']"
      ]
     },
     "execution_count": 20,
     "metadata": {},
     "output_type": "execute_result"
    }
   ],
   "source": [
    "useful_cols.extend(['championName', 'individualPosition', 'lane', 'role', 'teamPosition'])\n",
    "useful_cols"
   ]
  },
  {
   "cell_type": "markdown",
   "metadata": {},
   "source": [
    "## DTO(challenges)가 Null인 행 drop."
   ]
  },
  {
   "cell_type": "code",
   "execution_count": 21,
   "metadata": {},
   "outputs": [
    {
     "data": {
      "text/html": [
       "<div>\n",
       "<style scoped>\n",
       "    .dataframe tbody tr th:only-of-type {\n",
       "        vertical-align: middle;\n",
       "    }\n",
       "\n",
       "    .dataframe tbody tr th {\n",
       "        vertical-align: top;\n",
       "    }\n",
       "\n",
       "    .dataframe thead th {\n",
       "        text-align: right;\n",
       "    }\n",
       "</style>\n",
       "<table border=\"1\" class=\"dataframe\">\n",
       "  <thead>\n",
       "    <tr style=\"text-align: right;\">\n",
       "      <th></th>\n",
       "      <th>challenges</th>\n",
       "      <th>championName</th>\n",
       "      <th>individualPosition</th>\n",
       "      <th>lane</th>\n",
       "      <th>missions</th>\n",
       "      <th>perks</th>\n",
       "      <th>role</th>\n",
       "      <th>teamPosition</th>\n",
       "    </tr>\n",
       "  </thead>\n",
       "  <tbody>\n",
       "    <tr>\n",
       "      <th>count</th>\n",
       "      <td>19390</td>\n",
       "      <td>20000</td>\n",
       "      <td>20000</td>\n",
       "      <td>20000</td>\n",
       "      <td>20000</td>\n",
       "      <td>20000</td>\n",
       "      <td>20000</td>\n",
       "      <td>18495</td>\n",
       "    </tr>\n",
       "    <tr>\n",
       "      <th>unique</th>\n",
       "      <td>12220</td>\n",
       "      <td>170</td>\n",
       "      <td>6</td>\n",
       "      <td>5</td>\n",
       "      <td>1</td>\n",
       "      <td>12799</td>\n",
       "      <td>5</td>\n",
       "      <td>5</td>\n",
       "    </tr>\n",
       "    <tr>\n",
       "      <th>top</th>\n",
       "      <td>{'12AssistStreakCount': 0, 'HealFromMapSources...</td>\n",
       "      <td>Ezreal</td>\n",
       "      <td>JUNGLE</td>\n",
       "      <td>NONE</td>\n",
       "      <td>{'playerScore0': 0, 'playerScore1': 0, 'player...</td>\n",
       "      <td>{'statPerks': {'defense': 5011, 'flex': 5008, ...</td>\n",
       "      <td>SUPPORT</td>\n",
       "      <td>MIDDLE</td>\n",
       "    </tr>\n",
       "    <tr>\n",
       "      <th>freq</th>\n",
       "      <td>9</td>\n",
       "      <td>829</td>\n",
       "      <td>4082</td>\n",
       "      <td>5660</td>\n",
       "      <td>20000</td>\n",
       "      <td>9</td>\n",
       "      <td>8598</td>\n",
       "      <td>3700</td>\n",
       "    </tr>\n",
       "  </tbody>\n",
       "</table>\n",
       "</div>"
      ],
      "text/plain": [
       "                                               challenges championName  \\\n",
       "count                                               19390        20000   \n",
       "unique                                              12220          170   \n",
       "top     {'12AssistStreakCount': 0, 'HealFromMapSources...       Ezreal   \n",
       "freq                                                    9          829   \n",
       "\n",
       "       individualPosition   lane  \\\n",
       "count               20000  20000   \n",
       "unique                  6      5   \n",
       "top                JUNGLE   NONE   \n",
       "freq                 4082   5660   \n",
       "\n",
       "                                                 missions  \\\n",
       "count                                               20000   \n",
       "unique                                                  1   \n",
       "top     {'playerScore0': 0, 'playerScore1': 0, 'player...   \n",
       "freq                                                20000   \n",
       "\n",
       "                                                    perks     role  \\\n",
       "count                                               20000    20000   \n",
       "unique                                              12799        5   \n",
       "top     {'statPerks': {'defense': 5011, 'flex': 5008, ...  SUPPORT   \n",
       "freq                                                    9     8598   \n",
       "\n",
       "       teamPosition  \n",
       "count         18495  \n",
       "unique            5  \n",
       "top          MIDDLE  \n",
       "freq           3700  "
      ]
     },
     "metadata": {},
     "output_type": "display_data"
    },
    {
     "data": {
      "text/plain": [
       "19390"
      ]
     },
     "metadata": {},
     "output_type": "display_data"
    }
   ],
   "source": [
    "display(df.describe(include = 'O'))\n",
    "display(len(df.loc[~df.challenges.isnull()]))\n",
    "# challenges 컬럼에 null 값이 610개 있음. => 제거 필요. 이때, win 비율에 영향을 안 주는지 확인해야함."
   ]
  },
  {
   "cell_type": "code",
   "execution_count": 22,
   "metadata": {},
   "outputs": [
    {
     "data": {
      "text/plain": [
       "win\n",
       "True     10000\n",
       "False    10000\n",
       "Name: count, dtype: int64"
      ]
     },
     "execution_count": 22,
     "metadata": {},
     "output_type": "execute_result"
    }
   ],
   "source": [
    "df.win.value_counts()"
   ]
  },
  {
   "cell_type": "code",
   "execution_count": 23,
   "metadata": {},
   "outputs": [
    {
     "data": {
      "text/plain": [
       "win\n",
       "True     9695\n",
       "False    9695\n",
       "Name: count, dtype: int64"
      ]
     },
     "execution_count": 23,
     "metadata": {},
     "output_type": "execute_result"
    }
   ],
   "source": [
    "df.loc[~df.challenges.isnull()].win.value_counts()\n",
    "# challenges의 null 행을 제거해도 win의 T/F 개수가 같으므로 제거 가능."
   ]
  },
  {
   "cell_type": "code",
   "execution_count": 44,
   "metadata": {},
   "outputs": [
    {
     "data": {
      "text/plain": [
       "(19390, 128)"
      ]
     },
     "execution_count": 44,
     "metadata": {},
     "output_type": "execute_result"
    }
   ],
   "source": [
    "new_df = df.loc[~df.challenges.isnull()].reset_index(drop=True)\n",
    "new_df.shape"
   ]
  },
  {
   "cell_type": "code",
   "execution_count": 46,
   "metadata": {},
   "outputs": [
    {
     "data": {
      "text/html": [
       "<div>\n",
       "<style scoped>\n",
       "    .dataframe tbody tr th:only-of-type {\n",
       "        vertical-align: middle;\n",
       "    }\n",
       "\n",
       "    .dataframe tbody tr th {\n",
       "        vertical-align: top;\n",
       "    }\n",
       "\n",
       "    .dataframe thead th {\n",
       "        text-align: right;\n",
       "    }\n",
       "</style>\n",
       "<table border=\"1\" class=\"dataframe\">\n",
       "  <thead>\n",
       "    <tr style=\"text-align: right;\">\n",
       "      <th></th>\n",
       "      <th>challenges</th>\n",
       "      <th>championName</th>\n",
       "      <th>individualPosition</th>\n",
       "      <th>lane</th>\n",
       "      <th>missions</th>\n",
       "      <th>perks</th>\n",
       "      <th>role</th>\n",
       "      <th>teamPosition</th>\n",
       "    </tr>\n",
       "  </thead>\n",
       "  <tbody>\n",
       "    <tr>\n",
       "      <th>count</th>\n",
       "      <td>19390</td>\n",
       "      <td>19390</td>\n",
       "      <td>19390</td>\n",
       "      <td>19390</td>\n",
       "      <td>19390</td>\n",
       "      <td>19390</td>\n",
       "      <td>19390</td>\n",
       "      <td>18495</td>\n",
       "    </tr>\n",
       "    <tr>\n",
       "      <th>unique</th>\n",
       "      <td>12220</td>\n",
       "      <td>170</td>\n",
       "      <td>6</td>\n",
       "      <td>5</td>\n",
       "      <td>1</td>\n",
       "      <td>12219</td>\n",
       "      <td>5</td>\n",
       "      <td>5</td>\n",
       "    </tr>\n",
       "    <tr>\n",
       "      <th>top</th>\n",
       "      <td>{'12AssistStreakCount': 0, 'HealFromMapSources...</td>\n",
       "      <td>Ezreal</td>\n",
       "      <td>JUNGLE</td>\n",
       "      <td>NONE</td>\n",
       "      <td>{'playerScore0': 0, 'playerScore1': 0, 'player...</td>\n",
       "      <td>{'statPerks': {'defense': 5011, 'flex': 5008, ...</td>\n",
       "      <td>SUPPORT</td>\n",
       "      <td>MIDDLE</td>\n",
       "    </tr>\n",
       "    <tr>\n",
       "      <th>freq</th>\n",
       "      <td>9</td>\n",
       "      <td>824</td>\n",
       "      <td>4082</td>\n",
       "      <td>5180</td>\n",
       "      <td>19390</td>\n",
       "      <td>9</td>\n",
       "      <td>8090</td>\n",
       "      <td>3700</td>\n",
       "    </tr>\n",
       "  </tbody>\n",
       "</table>\n",
       "</div>"
      ],
      "text/plain": [
       "                                               challenges championName  \\\n",
       "count                                               19390        19390   \n",
       "unique                                              12220          170   \n",
       "top     {'12AssistStreakCount': 0, 'HealFromMapSources...       Ezreal   \n",
       "freq                                                    9          824   \n",
       "\n",
       "       individualPosition   lane  \\\n",
       "count               19390  19390   \n",
       "unique                  6      5   \n",
       "top                JUNGLE   NONE   \n",
       "freq                 4082   5180   \n",
       "\n",
       "                                                 missions  \\\n",
       "count                                               19390   \n",
       "unique                                                  1   \n",
       "top     {'playerScore0': 0, 'playerScore1': 0, 'player...   \n",
       "freq                                                19390   \n",
       "\n",
       "                                                    perks     role  \\\n",
       "count                                               19390    19390   \n",
       "unique                                              12219        5   \n",
       "top     {'statPerks': {'defense': 5011, 'flex': 5008, ...  SUPPORT   \n",
       "freq                                                    9     8090   \n",
       "\n",
       "       teamPosition  \n",
       "count         18495  \n",
       "unique            5  \n",
       "top          MIDDLE  \n",
       "freq           3700  "
      ]
     },
     "execution_count": 46,
     "metadata": {},
     "output_type": "execute_result"
    }
   ],
   "source": [
    "new_df.describe(include ='O')"
   ]
  },
  {
   "cell_type": "markdown",
   "metadata": {},
   "source": [
    "## DTO data (Challenges, perks) 분리.\n",
    "missions은 모두 같은 값으로 무의미함. 따라서 사용하지 않음."
   ]
  },
  {
   "cell_type": "code",
   "execution_count": 47,
   "metadata": {},
   "outputs": [],
   "source": [
    "import ast"
   ]
  },
  {
   "cell_type": "code",
   "execution_count": 48,
   "metadata": {},
   "outputs": [
    {
     "data": {
      "text/plain": [
       "(19390, 141)"
      ]
     },
     "execution_count": 48,
     "metadata": {},
     "output_type": "execute_result"
    }
   ],
   "source": [
    "# Challenges\n",
    "data_list = [ast.literal_eval(d) for d in new_df.challenges]\n",
    "df_challenges = pd.DataFrame(data_list)\n",
    "df_challenges.shape"
   ]
  },
  {
   "cell_type": "code",
   "execution_count": 49,
   "metadata": {},
   "outputs": [
    {
     "data": {
      "text/plain": [
       "(19390, 2)"
      ]
     },
     "execution_count": 49,
     "metadata": {},
     "output_type": "execute_result"
    }
   ],
   "source": [
    "# Perks\n",
    "data_list = [ast.literal_eval(d) for d in new_df.perks]\n",
    "df_perks = pd.DataFrame(data_list)\n",
    "df_perks.shape"
   ]
  },
  {
   "cell_type": "code",
   "execution_count": 50,
   "metadata": {},
   "outputs": [
    {
     "name": "stdout",
     "output_type": "stream",
     "text": [
      "<class 'pandas.core.frame.DataFrame'>\n",
      "RangeIndex: 19390 entries, 0 to 19389\n",
      "Data columns (total 141 columns):\n",
      " #    Column                                     Non-Null Count  Dtype  \n",
      "---   ------                                     --------------  -----  \n",
      " 0    12AssistStreakCount                        19390 non-null  int64  \n",
      " 1    HealFromMapSources                         19390 non-null  float64\n",
      " 2    InfernalScalePickup                        19390 non-null  int64  \n",
      " 3    SWARM_DefeatAatrox                         19390 non-null  int64  \n",
      " 4    SWARM_DefeatBriar                          19390 non-null  int64  \n",
      " 5    SWARM_DefeatMiniBosses                     19390 non-null  int64  \n",
      " 6    SWARM_EvolveWeapon                         19390 non-null  int64  \n",
      " 7    SWARM_Have3Passives                        19390 non-null  int64  \n",
      " 8    SWARM_KillEnemy                            19390 non-null  int64  \n",
      " 9    SWARM_PickupGold                           19390 non-null  int64  \n",
      " 10   SWARM_ReachLevel50                         19390 non-null  int64  \n",
      " 11   SWARM_Survive15Min                         19390 non-null  int64  \n",
      " 12   SWARM_WinWith5EvolvedWeapons               19390 non-null  int64  \n",
      " 13   abilityUses                                19390 non-null  int64  \n",
      " 14   acesBefore15Minutes                        19390 non-null  int64  \n",
      " 15   alliedJungleMonsterKills                   19390 non-null  int64  \n",
      " 16   baronTakedowns                             19390 non-null  int64  \n",
      " 17   blastConeOppositeOpponentCount             19390 non-null  int64  \n",
      " 18   bountyGold                                 19390 non-null  float64\n",
      " 19   buffsStolen                                19390 non-null  int64  \n",
      " 20   completeSupportQuestInTime                 19390 non-null  int64  \n",
      " 21   controlWardTimeCoverageInRiverOrEnemyHalf  13948 non-null  float64\n",
      " 22   controlWardsPlaced                         19390 non-null  int64  \n",
      " 23   damagePerMinute                            19390 non-null  float64\n",
      " 24   damageTakenOnTeamPercentage                19390 non-null  float64\n",
      " 25   dancedWithRiftHerald                       19390 non-null  int64  \n",
      " 26   deathsByEnemyChamps                        19390 non-null  int64  \n",
      " 27   dodgeSkillShotsSmallWindow                 19390 non-null  int64  \n",
      " 28   doubleAces                                 19390 non-null  int64  \n",
      " 29   dragonTakedowns                            19390 non-null  int64  \n",
      " 30   earliestBaron                              4135 non-null   float64\n",
      " 31   earliestDragonTakedown                     7777 non-null   float64\n",
      " 32   earlyLaningPhaseGoldExpAdvantage           18380 non-null  float64\n",
      " 33   effectiveHealAndShielding                  19390 non-null  float64\n",
      " 34   elderDragonKillsWithOpposingSoul           19390 non-null  int64  \n",
      " 35   elderDragonMultikills                      19390 non-null  int64  \n",
      " 36   enemyChampionImmobilizations               19390 non-null  int64  \n",
      " 37   enemyJungleMonsterKills                    19390 non-null  int64  \n",
      " 38   epicMonsterKillsNearEnemyJungler           19390 non-null  int64  \n",
      " 39   epicMonsterKillsWithin30SecondsOfSpawn     19390 non-null  int64  \n",
      " 40   epicMonsterSteals                          19390 non-null  int64  \n",
      " 41   epicMonsterStolenWithoutSmite              19390 non-null  int64  \n",
      " 42   fastestLegendary                           723 non-null    float64\n",
      " 43   firstTurretKilled                          19390 non-null  int64  \n",
      " 44   firstTurretKilledTime                      9585 non-null   float64\n",
      " 45   fistBumpParticipation                      19390 non-null  int64  \n",
      " 46   flawlessAces                               19390 non-null  int64  \n",
      " 47   fullTeamTakedown                           19390 non-null  int64  \n",
      " 48   gameLength                                 19390 non-null  float64\n",
      " 49   getTakedownsInAllLanesEarlyJungleAsLaner   15690 non-null  float64\n",
      " 50   goldPerMinute                              19390 non-null  float64\n",
      " 51   hadOpenNexus                               19390 non-null  int64  \n",
      " 52   immobilizeAndKillWithAlly                  19390 non-null  int64  \n",
      " 53   initialBuffCount                           19390 non-null  int64  \n",
      " 54   initialCrabCount                           19390 non-null  int64  \n",
      " 55   jungleCsBefore10Minutes                    19390 non-null  float64\n",
      " 56   junglerTakedownsNearDamagedEpicMonster     19390 non-null  int64  \n",
      " 57   kTurretsDestroyedBeforePlatesFall          19390 non-null  int64  \n",
      " 58   kda                                        19390 non-null  float64\n",
      " 59   killAfterHiddenWithAlly                    19390 non-null  int64  \n",
      " 60   killParticipation                          19290 non-null  float64\n",
      " 61   killedChampTookFullTeamDamageSurvived      19390 non-null  int64  \n",
      " 62   killingSprees                              19390 non-null  int64  \n",
      " 63   killsNearEnemyTurret                       19390 non-null  int64  \n",
      " 64   killsOnOtherLanesEarlyJungleAsLaner        15690 non-null  float64\n",
      " 65   killsOnRecentlyHealedByAramPack            19390 non-null  int64  \n",
      " 66   killsUnderOwnTurret                        19390 non-null  int64  \n",
      " 67   killsWithHelpFromEpicMonster               19390 non-null  int64  \n",
      " 68   knockEnemyIntoTeamAndKill                  19390 non-null  int64  \n",
      " 69   landSkillShotsEarlyGame                    19390 non-null  int64  \n",
      " 70   laneMinionsFirst10Minutes                  19390 non-null  int64  \n",
      " 71   laningPhaseGoldExpAdvantage                18360 non-null  float64\n",
      " 72   legendaryCount                             19390 non-null  int64  \n",
      " 73   legendaryItemUsed                          19390 non-null  object \n",
      " 74   lostAnInhibitor                            19390 non-null  int64  \n",
      " 75   maxCsAdvantageOnLaneOpponent               18390 non-null  float64\n",
      " 76   maxKillDeficit                             19390 non-null  int64  \n",
      " 77   maxLevelLeadLaneOpponent                   18390 non-null  float64\n",
      " 78   mejaisFullStackInTime                      19390 non-null  int64  \n",
      " 79   moreEnemyJungleThanOpponent                19390 non-null  int64  \n",
      " 80   multiKillOneSpell                          19390 non-null  int64  \n",
      " 81   multiTurretRiftHeraldCount                 19390 non-null  int64  \n",
      " 82   multikills                                 19390 non-null  int64  \n",
      " 83   multikillsAfterAggressiveFlash             19390 non-null  int64  \n",
      " 84   outerTurretExecutesBefore10Minutes         19390 non-null  int64  \n",
      " 85   outnumberedKills                           19390 non-null  int64  \n",
      " 86   outnumberedNexusKill                       19390 non-null  int64  \n",
      " 87   perfectDragonSoulsTaken                    19390 non-null  int64  \n",
      " 88   perfectGame                                19390 non-null  int64  \n",
      " 89   pickKillWithAlly                           19390 non-null  int64  \n",
      " 90   playedChampSelectPosition                  17435 non-null  float64\n",
      " 91   poroExplosions                             19390 non-null  int64  \n",
      " 92   quickCleanse                               19390 non-null  int64  \n",
      " 93   quickFirstTurret                           19390 non-null  int64  \n",
      " 94   quickSoloKills                             19390 non-null  int64  \n",
      " 95   riftHeraldTakedowns                        19390 non-null  int64  \n",
      " 96   saveAllyFromDeath                          19390 non-null  int64  \n",
      " 97   scuttleCrabKills                           19390 non-null  int64  \n",
      " 98   shortestTimeToAceFromFirstTakedown         4420 non-null   float64\n",
      " 99   skillshotsDodged                           19390 non-null  int64  \n",
      " 100  skillshotsHit                              19390 non-null  int64  \n",
      " 101  snowballsHit                               19390 non-null  int64  \n",
      " 102  soloBaronKills                             19390 non-null  int64  \n",
      " 103  soloKills                                  19390 non-null  int64  \n",
      " 104  soloTurretsLategame                        2572 non-null   float64\n",
      " 105  stealthWardsPlaced                         19390 non-null  int64  \n",
      " 106  survivedSingleDigitHpCount                 19390 non-null  int64  \n",
      " 107  survivedThreeImmobilizesInFight            19390 non-null  int64  \n",
      " 108  takedownOnFirstTurret                      19390 non-null  int64  \n",
      " 109  takedowns                                  19390 non-null  int64  \n",
      " 110  takedownsAfterGainingLevelAdvantage        19390 non-null  int64  \n",
      " 111  takedownsBeforeJungleMinionSpawn           19390 non-null  int64  \n",
      " 112  takedownsFirstXMinutes                     19390 non-null  int64  \n",
      " 113  takedownsInAlcove                          19390 non-null  int64  \n",
      " 114  takedownsInEnemyFountain                   19390 non-null  int64  \n",
      " 115  teamBaronKills                             19390 non-null  int64  \n",
      " 116  teamDamagePercentage                       19390 non-null  float64\n",
      " 117  teamElderDragonKills                       19390 non-null  int64  \n",
      " 118  teamRiftHeraldKills                        19390 non-null  int64  \n",
      " 119  tookLargeDamageSurvived                    19390 non-null  int64  \n",
      " 120  turretPlatesTaken                          19390 non-null  int64  \n",
      " 121  turretTakedowns                            19390 non-null  int64  \n",
      " 122  turretsTakenWithRiftHerald                 19390 non-null  int64  \n",
      " 123  twentyMinionsIn3SecondsCount               19390 non-null  int64  \n",
      " 124  twoWardsOneSweeperCount                    19390 non-null  int64  \n",
      " 125  unseenRecalls                              19390 non-null  int64  \n",
      " 126  visionScoreAdvantageLaneOpponent           18390 non-null  float64\n",
      " 127  visionScorePerMinute                       19390 non-null  float64\n",
      " 128  voidMonsterKill                            19390 non-null  int64  \n",
      " 129  wardTakedowns                              19390 non-null  int64  \n",
      " 130  wardTakedownsBefore20M                     19390 non-null  int64  \n",
      " 131  wardsGuarded                               19390 non-null  int64  \n",
      " 132  junglerKillsEarlyJungle                    3700 non-null   float64\n",
      " 133  killsOnLanersEarlyJungleAsJungler          3700 non-null   float64\n",
      " 134  highestChampionDamage                      1939 non-null   float64\n",
      " 135  highestCrowdControlScore                   1938 non-null   float64\n",
      " 136  highestWardKills                           2146 non-null   float64\n",
      " 137  baronBuffGoldAdvantageOverThreshold        2880 non-null   float64\n",
      " 138  fasterSupportQuestCompletion               729 non-null    float64\n",
      " 139  hadAfkTeammate                             92 non-null     float64\n",
      " 140  earliestElderDragon                        140 non-null    float64\n",
      "dtypes: float64(36), int64(104), object(1)\n",
      "memory usage: 20.9+ MB\n"
     ]
    }
   ],
   "source": [
    "df_challenges.info()"
   ]
  },
  {
   "cell_type": "code",
   "execution_count": 51,
   "metadata": {},
   "outputs": [
    {
     "data": {
      "text/plain": [
       "0              [6631, 3071, 6333, 3026, 3143]\n",
       "1              [6692, 3071, 6333, 3026, 3050]\n",
       "2                    [3118, 4645, 3135, 3089]\n",
       "3        [6676, 3094, 3036, 3033, 3031, 6675]\n",
       "4                          [3869, 3190, 3050]\n",
       "                         ...                 \n",
       "19385                      [6653, 8010, 3157]\n",
       "19386          [2503, 4645, 3135, 3118, 6653]\n",
       "19387          [3153, 6673, 3031, 3139, 3181]\n",
       "19388                [3153, 3124, 3072, 3139]\n",
       "19389                      [3869, 3190, 3107]\n",
       "Name: legendaryItemUsed, Length: 19390, dtype: object"
      ]
     },
     "execution_count": 51,
     "metadata": {},
     "output_type": "execute_result"
    }
   ],
   "source": [
    "# 유일한 object type 출력.\n",
    "df_challenges.legendaryItemUsed"
   ]
  },
  {
   "cell_type": "markdown",
   "metadata": {},
   "source": [
    "### 유의미한 Columns 추출."
   ]
  },
  {
   "cell_type": "code",
   "execution_count": 52,
   "metadata": {},
   "outputs": [
    {
     "data": {
      "text/plain": [
       "((19390, 141), (19390, 128))"
      ]
     },
     "execution_count": 52,
     "metadata": {},
     "output_type": "execute_result"
    }
   ],
   "source": [
    "df_challenges.shape, new_df.shape"
   ]
  },
  {
   "cell_type": "code",
   "execution_count": 53,
   "metadata": {},
   "outputs": [
    {
     "data": {
      "text/plain": [
       "(19390,)"
      ]
     },
     "execution_count": 53,
     "metadata": {},
     "output_type": "execute_result"
    }
   ],
   "source": [
    "y = new_df.win\n",
    "y.shape"
   ]
  },
  {
   "cell_type": "code",
   "execution_count": 54,
   "metadata": {},
   "outputs": [
    {
     "data": {
      "text/plain": [
       "(19390, 142)"
      ]
     },
     "execution_count": 54,
     "metadata": {},
     "output_type": "execute_result"
    }
   ],
   "source": [
    "df_challenges = pd.concat([df_challenges, y], axis=1)\n",
    "df_challenges.shape"
   ]
  },
  {
   "cell_type": "code",
   "execution_count": 67,
   "metadata": {},
   "outputs": [
    {
     "data": {
      "text/plain": [
       "['kda',\n",
       " 'turretTakedowns',\n",
       " 'maxKillDeficit',\n",
       " 'firstTurretKilled',\n",
       " 'maxLevelLeadLaneOpponent',\n",
       " 'deathsByEnemyChamps',\n",
       " 'takedowns',\n",
       " 'goldPerMinute',\n",
       " 'flawlessAces',\n",
       " 'teamBaronKills',\n",
       " 'teamRiftHeraldKills']"
      ]
     },
     "execution_count": 67,
     "metadata": {},
     "output_type": "execute_result"
    }
   ],
   "source": [
    "df_challenges_corr = df_challenges.corr(numeric_only=True)['win'].abs().sort_values(ascending = False)[1:]\n",
    "useful_cols_in_challenges = df_challenges_corr.loc[df_challenges_corr > 0.3].index.tolist()\n",
    "useful_cols_in_challenges"
   ]
  },
  {
   "cell_type": "code",
   "execution_count": 68,
   "metadata": {},
   "outputs": [
    {
     "data": {
      "text/plain": [
       "['kda',\n",
       " 'turretTakedowns',\n",
       " 'maxKillDeficit',\n",
       " 'firstTurretKilled',\n",
       " 'maxLevelLeadLaneOpponent',\n",
       " 'deathsByEnemyChamps',\n",
       " 'takedowns',\n",
       " 'goldPerMinute',\n",
       " 'flawlessAces',\n",
       " 'teamBaronKills',\n",
       " 'teamRiftHeraldKills',\n",
       " 'legendaryItemUsed']"
      ]
     },
     "execution_count": 68,
     "metadata": {},
     "output_type": "execute_result"
    }
   ],
   "source": [
    "useful_cols_in_challenges.append('legendaryItemUsed')\n",
    "useful_cols_in_challenges"
   ]
  },
  {
   "cell_type": "markdown",
   "metadata": {},
   "source": [
    "### Create \"useful_df\" (useful_cols + useful_cols_in_challenges)."
   ]
  },
  {
   "cell_type": "code",
   "execution_count": 71,
   "metadata": {},
   "outputs": [
    {
     "data": {
      "text/plain": [
       "(16, 12)"
      ]
     },
     "execution_count": 71,
     "metadata": {},
     "output_type": "execute_result"
    }
   ],
   "source": [
    "len(useful_cols), len(useful_cols_in_challenges)"
   ]
  },
  {
   "cell_type": "code",
   "execution_count": 70,
   "metadata": {},
   "outputs": [
    {
     "data": {
      "text/plain": [
       "(19390, 28)"
      ]
     },
     "execution_count": 70,
     "metadata": {},
     "output_type": "execute_result"
    }
   ],
   "source": [
    "useful_df = pd.concat([new_df[useful_cols], df_challenges[useful_cols_in_challenges]], axis = 1)\n",
    "useful_df.shape"
   ]
  },
  {
   "cell_type": "code",
   "execution_count": 72,
   "metadata": {},
   "outputs": [
    {
     "data": {
      "text/plain": [
       "Index(['nexusLost', 'turretsLost', 'turretTakedowns', 'inhibitorsLost',\n",
       "       'nexusTakedowns', 'inhibitorTakedowns', 'deaths',\n",
       "       'damageDealtToBuildings', 'damageDealtToTurrets', 'turretKills',\n",
       "       'largestKillingSpree', 'championName', 'individualPosition', 'lane',\n",
       "       'role', 'teamPosition', 'kda', 'turretTakedowns', 'maxKillDeficit',\n",
       "       'firstTurretKilled', 'maxLevelLeadLaneOpponent', 'deathsByEnemyChamps',\n",
       "       'takedowns', 'goldPerMinute', 'flawlessAces', 'teamBaronKills',\n",
       "       'teamRiftHeraldKills', 'legendaryItemUsed'],\n",
       "      dtype='object')"
      ]
     },
     "execution_count": 72,
     "metadata": {},
     "output_type": "execute_result"
    }
   ],
   "source": [
    "useful_df.columns"
   ]
  },
  {
   "cell_type": "markdown",
   "metadata": {},
   "source": [
    "# Store Data (useful_df, perks_df)"
   ]
  },
  {
   "cell_type": "code",
   "execution_count": 78,
   "metadata": {},
   "outputs": [
    {
     "data": {
      "text/plain": [
       "(19390, 29)"
      ]
     },
     "execution_count": 78,
     "metadata": {},
     "output_type": "execute_result"
    }
   ],
   "source": [
    "final_df = pd.concat([useful_df, y], axis = 1)\n",
    "final_df.shape"
   ]
  },
  {
   "cell_type": "code",
   "execution_count": 81,
   "metadata": {},
   "outputs": [],
   "source": [
    "final_df.to_csv('useful_df_except_perks.csv', index=False)"
   ]
  },
  {
   "cell_type": "code",
   "execution_count": 82,
   "metadata": {},
   "outputs": [],
   "source": [
    "df_perks.to_csv('perks.csv', index=False)"
   ]
  },
  {
   "cell_type": "code",
   "execution_count": 83,
   "metadata": {},
   "outputs": [
    {
     "data": {
      "text/plain": [
       "((19390, 29), (19390, 2))"
      ]
     },
     "execution_count": 83,
     "metadata": {},
     "output_type": "execute_result"
    }
   ],
   "source": [
    "# Check\n",
    "u_df = pd.read_csv('useful_df_except_perks.csv')\n",
    "p_df = pd.read_csv('perks.csv')\n",
    "\n",
    "u_df.shape, p_df.shape"
   ]
  },
  {
   "cell_type": "code",
   "execution_count": 84,
   "metadata": {},
   "outputs": [
    {
     "name": "stdout",
     "output_type": "stream",
     "text": [
      "<class 'pandas.core.frame.DataFrame'>\n",
      "RangeIndex: 19390 entries, 0 to 19389\n",
      "Data columns (total 29 columns):\n",
      " #   Column                    Non-Null Count  Dtype  \n",
      "---  ------                    --------------  -----  \n",
      " 0   nexusLost                 19390 non-null  int64  \n",
      " 1   turretsLost               19390 non-null  int64  \n",
      " 2   turretTakedowns           19390 non-null  int64  \n",
      " 3   inhibitorsLost            19390 non-null  int64  \n",
      " 4   nexusTakedowns            19390 non-null  int64  \n",
      " 5   inhibitorTakedowns        19390 non-null  int64  \n",
      " 6   deaths                    19390 non-null  int64  \n",
      " 7   damageDealtToBuildings    19390 non-null  int64  \n",
      " 8   damageDealtToTurrets      19390 non-null  int64  \n",
      " 9   turretKills               19390 non-null  int64  \n",
      " 10  largestKillingSpree       19390 non-null  int64  \n",
      " 11  championName              19390 non-null  object \n",
      " 12  individualPosition        19390 non-null  object \n",
      " 13  lane                      19390 non-null  object \n",
      " 14  role                      19390 non-null  object \n",
      " 15  teamPosition              18495 non-null  object \n",
      " 16  kda                       19390 non-null  float64\n",
      " 17  turretTakedowns.1         19390 non-null  int64  \n",
      " 18  maxKillDeficit            19390 non-null  int64  \n",
      " 19  firstTurretKilled         19390 non-null  int64  \n",
      " 20  maxLevelLeadLaneOpponent  18390 non-null  float64\n",
      " 21  deathsByEnemyChamps       19390 non-null  int64  \n",
      " 22  takedowns                 19390 non-null  int64  \n",
      " 23  goldPerMinute             19390 non-null  float64\n",
      " 24  flawlessAces              19390 non-null  int64  \n",
      " 25  teamBaronKills            19390 non-null  int64  \n",
      " 26  teamRiftHeraldKills       19390 non-null  int64  \n",
      " 27  legendaryItemUsed         19390 non-null  object \n",
      " 28  win                       19390 non-null  bool   \n",
      "dtypes: bool(1), float64(3), int64(19), object(6)\n",
      "memory usage: 4.2+ MB\n"
     ]
    }
   ],
   "source": [
    "u_df.info()"
   ]
  },
  {
   "cell_type": "code",
   "execution_count": 85,
   "metadata": {},
   "outputs": [
    {
     "name": "stdout",
     "output_type": "stream",
     "text": [
      "<class 'pandas.core.frame.DataFrame'>\n",
      "RangeIndex: 19390 entries, 0 to 19389\n",
      "Data columns (total 2 columns):\n",
      " #   Column     Non-Null Count  Dtype \n",
      "---  ------     --------------  ----- \n",
      " 0   statPerks  19390 non-null  object\n",
      " 1   styles     19390 non-null  object\n",
      "dtypes: object(2)\n",
      "memory usage: 303.1+ KB\n"
     ]
    }
   ],
   "source": [
    "p_df.info()"
   ]
  },
  {
   "cell_type": "markdown",
   "metadata": {},
   "source": [
    "# Perks_df 추출."
   ]
  },
  {
   "cell_type": "code",
   "execution_count": null,
   "metadata": {},
   "outputs": [],
   "source": []
  }
 ],
 "metadata": {
  "kernelspec": {
   "display_name": "Python 3",
   "language": "python",
   "name": "python3"
  },
  "language_info": {
   "codemirror_mode": {
    "name": "ipython",
    "version": 3
   },
   "file_extension": ".py",
   "mimetype": "text/x-python",
   "name": "python",
   "nbconvert_exporter": "python",
   "pygments_lexer": "ipython3",
   "version": "3.11.9"
  }
 },
 "nbformat": 4,
 "nbformat_minor": 2
}
