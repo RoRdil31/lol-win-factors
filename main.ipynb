{
 "cells": [
  {
   "cell_type": "markdown",
   "metadata": {},
   "source": [
    "# 챌, 그마, 마스터 티어 정보 가져오기."
   ]
  },
  {
   "cell_type": "code",
   "execution_count": 67,
   "metadata": {},
   "outputs": [],
   "source": [
    "from config import api_key\n",
    "import requests\n",
    " \n",
    "api_key = api_key\n",
    "\n",
    "header = {\n",
    "                \"User-Agent\": \"Mozilla/5.0 (Windows NT 10.0; Win64; x64) AppleWebKit/537.36 (KHTML, like Gecko) Chrome/132.0.0.0 Safari/537.36\",\n",
    "                \"Accept-Language\": \"ko-KR,ko;q=0.9,en-US;q=0.8,en;q=0.7\",\n",
    "                \"Accept-Charset\": \"application/x-www-form-urlencoded; charset=UTF-8\",\n",
    "                \"Origin\": \"https://developer.riotgames.com\",\n",
    "                \"X-Riot-Token\": api_key\n",
    "                }   \n",
    "\n",
    " \n",
    "def league_v4_tier_info(tier):\n",
    "    queue = \"RANKED_SOLO_5x5\"\n",
    "    url = f\"https://kr.api.riotgames.com/lol/league/v4/{tier}leagues/by-queue/{queue}\"\n",
    "    response = requests.get(url, headers=header)\n",
    "    \n",
    "    if response.status_code == 200: return response.json()\n",
    "    else: print(f\"Error fetching data: {response.status_code}\"); return None\n",
    "    \n",
    "def account_v1_info(userNickname, tagLine):\n",
    "    queue = \"RANKED_SOLO_5x5\"\n",
    "    url = f\"https://asia.api.riotgames.com/riot/account/v1/accounts/by-riot-id/{userNickname}/{tagLine}\"\n",
    "    response = requests.get(url, headers=header)\n",
    "    \n",
    "    if response.status_code == 200: return response.json()\n",
    "    else: print(f\"Error fetching data: {response.status_code}\"); return None\n",
    "\n",
    "def summoner_v4_by_encryptedPUUID_info(puuid):\n",
    "    queue = \"RANKED_SOLO_5x5\"\n",
    "    url = f\"https://kr.api.riotgames.com/lol/summoner/v4/summoners/by-puuid/{puuid}\"\n",
    "    response = requests.get(url, headers=header)\n",
    "    \n",
    "    if response.status_code == 200: return response.json()\n",
    "    else: print(f\"Error fetching data: {response.status_code}\"); return None\n",
    "    \n",
    "    "
   ]
  },
  {
   "cell_type": "code",
   "execution_count": 55,
   "metadata": {},
   "outputs": [
    {
     "name": "stdout",
     "output_type": "stream",
     "text": [
      "5205\n",
      "{'summonerId': 'G1OjDZapvgrRJlHXEmz-I3HIptaSH3tohWHgz1rz2Wx_3g0', 'rank': 'ChallengerI', 'LP': 1503, 'wins': 118, 'losses': 76}\n"
     ]
    }
   ],
   "source": [
    "master_plus = [\"challenger\", \"grandmaster\", \"master\"]\n",
    "master_plus_play = {}\n",
    "player_json = []\n",
    "\n",
    "for tier in master_plus:\n",
    "    tier_data = league_v4_tier_info(tier)\n",
    "    if tier_data:\n",
    "        for entry in tier_data['entries']: \n",
    "            entry['tier'] = tier.capitalize()  # 티어 정보를 추가\n",
    "        player_json.extend(tier_data['entries'])\n",
    "\n",
    "sorted_entries = sorted(player_json, key=lambda x: x['leaguePoints'], reverse=True)\n",
    "for index, entry in enumerate(sorted_entries, start=1):\n",
    "    master_plus_play[index] = {\n",
    "        \"summonerId\": entry[\"summonerId\"],\n",
    "        \"rank\": entry[\"tier\"] + entry[\"rank\"], \n",
    "        \"LP\": entry[\"leaguePoints\"],\n",
    "        \"wins\": entry[\"wins\"],\n",
    "        \"losses\": entry[\"losses\"]\n",
    "    }\n",
    "\n",
    "print(len(master_plus_play))\n",
    "print(master_plus_play[1])"
   ]
  },
  {
   "cell_type": "code",
   "execution_count": 62,
   "metadata": {},
   "outputs": [
    {
     "data": {
      "text/plain": [
       "{'summonerId': 'kHCElKOsJEF587Swglyn5q6vxMIb8w7jeY9zwJwijYrs6EETK9-AIn4CMQ',\n",
       " 'rank': 'GrandmasterI',\n",
       " 'LP': 270,\n",
       " 'wins': 31,\n",
       " 'losses': 19}"
      ]
     },
     "execution_count": 62,
     "metadata": {},
     "output_type": "execute_result"
    }
   ],
   "source": [
    "master_plus_play[999]"
   ]
  },
  {
   "cell_type": "markdown",
   "metadata": {},
   "source": [
    "# 소환사 닉네임과 태그로 계정 정보 가져오기."
   ]
  },
  {
   "cell_type": "code",
   "execution_count": 72,
   "metadata": {},
   "outputs": [
    {
     "data": {
      "text/plain": [
       "{'puuid': 'pZBBp__0Vg5lU0q7tKwUTx_tyqHO6ld6y2O2Xj9tLLYrfeZZM1EdHcILdKEM83rlRdehUoSp0ym8RQ',\n",
       " 'gameName': 'JustLikeThatKR',\n",
       " 'tagLine': 'KR3'}"
      ]
     },
     "metadata": {},
     "output_type": "display_data"
    },
    {
     "data": {
      "text/plain": [
       "{'id': 'xs2uzWHKKMqbl-LOSX297kRdwdRuwvHRN2Xwe110LULx5Vs',\n",
       " 'accountId': '7ZUGGx3iE-q8zEMcy7OyL_KGGCQwvnEDIdN7uQHeVlAqjB0',\n",
       " 'puuid': 'pZBBp__0Vg5lU0q7tKwUTx_tyqHO6ld6y2O2Xj9tLLYrfeZZM1EdHcILdKEM83rlRdehUoSp0ym8RQ',\n",
       " 'profileIconId': 6794,\n",
       " 'revisionDate': 1737114064000,\n",
       " 'summonerLevel': 689}"
      ]
     },
     "metadata": {},
     "output_type": "display_data"
    },
    {
     "data": {
      "text/plain": [
       "[{'leagueId': '90e9be43-4511-4c77-96b5-c4e163a51bfc',\n",
       "  'queueType': 'RANKED_SOLO_5x5',\n",
       "  'tier': 'DIAMOND',\n",
       "  'rank': 'IV',\n",
       "  'summonerId': 'xs2uzWHKKMqbl-LOSX297kRdwdRuwvHRN2Xwe110LULx5Vs',\n",
       "  'leaguePoints': 41,\n",
       "  'wins': 36,\n",
       "  'losses': 21,\n",
       "  'veteran': False,\n",
       "  'inactive': False,\n",
       "  'freshBlood': True,\n",
       "  'hotStreak': False}]"
      ]
     },
     "metadata": {},
     "output_type": "display_data"
    }
   ],
   "source": [
    "def league_v4_encryptedSummonerId_info(id):\n",
    "    queue = \"RANKED_SOLO_5x5\"\n",
    "    url = f\"https://kr.api.riotgames.com/lol/league/v4/entries/by-summoner/{id}\"\n",
    "    response = requests.get(url, headers=header)\n",
    "    \n",
    "    if response.status_code == 200: return response.json()\n",
    "    else: print(f\"Error fetching data: {response.status_code}\"); return None\n",
    "    \n",
    "\n",
    "player_id = account_v1_info('Justlikethatkr','kr3')\n",
    "display(player_id)\n",
    "\n",
    "player_id = summoner_v4_by_encryptedPUUID_info(player_id['puuid'])\n",
    "display(player_id)\n",
    "\n",
    "player = league_v4_encryptedSummonerId_info(player_id['id'])\n",
    "display(player)\n"
   ]
  }
 ],
 "metadata": {
  "kernelspec": {
   "display_name": "Python 3",
   "language": "python",
   "name": "python3"
  },
  "language_info": {
   "codemirror_mode": {
    "name": "ipython",
    "version": 3
   },
   "file_extension": ".py",
   "mimetype": "text/x-python",
   "name": "python",
   "nbconvert_exporter": "python",
   "pygments_lexer": "ipython3",
   "version": "3.11.9"
  }
 },
 "nbformat": 4,
 "nbformat_minor": 2
}
