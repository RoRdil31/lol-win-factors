{
 "cells": [
  {
   "cell_type": "code",
   "execution_count": 3,
   "metadata": {},
   "outputs": [],
   "source": [
    "from config import api_key\n",
    "import requests\n",
    " \n",
    "api_key = api_key\n",
    "header = {\"X-Riot-Token\" : api_key}\n",
    " \n",
    "def league_v4_tier_info(tier):\n",
    "    queue = \"RANKED_SOLO_5x5\"\n",
    "    url = f\"https://kr.api.riotgames.com/lol/league/v4/{tier}leagues/by-queue/{queue}\"\n",
    "    requests.get(url, headers=header)\n",
    "    response = requests.get(url, headers=header)\n",
    "    if response.status_code == 200:\n",
    "        return response.json()\n",
    "    else:\n",
    "        print(f\"Error fetching data: {response.status_code}\")\n",
    "        return None"
   ]
  },
  {
   "cell_type": "code",
   "execution_count": 7,
   "metadata": {},
   "outputs": [
    {
     "name": "stdout",
     "output_type": "stream",
     "text": [
      "{'Name': 'G1OjDZapvgrRJlHXEmz-I3HIptaSH3tohWHgz1rz2Wx_3g0', 'Rank': 'ChallengerI', 'LP': 1503, 'wins': 118, 'losses': 76}\n"
     ]
    }
   ],
   "source": [
    "master_plus = [\"challenger\", \"grandmaster\", \"master\"]\n",
    "master_plus_play = {}\n",
    "player_json = []\n",
    "\n",
    "for tier in master_plus:\n",
    "    tier_data = league_v4_tier_info(tier)\n",
    "    if tier_data:\n",
    "        for entry in tier_data['entries']:\n",
    "            entry['tier'] = tier.capitalize()  # 티어 정보를 추가\n",
    "        player_json.extend(tier_data['entries'])\n",
    "\n",
    "sorted_entries = sorted(player_json, key=lambda x: x['leaguePoints'], reverse=True)\n",
    "for index, entry in enumerate(sorted_entries, start=1):\n",
    "    master_plus_play[index] = {\n",
    "        \"Name\": entry[\"summonerId\"],\n",
    "        \"Rank\": entry[\"tier\"] + entry[\"rank\"], \n",
    "        \"LP\": entry[\"leaguePoints\"],\n",
    "        \"wins\": entry[\"wins\"],\n",
    "        \"losses\": entry[\"losses\"]\n",
    "    }\n",
    "\n",
    "print(master_plus_play[1])"
   ]
  }
 ],
 "metadata": {
  "kernelspec": {
   "display_name": "Python 3",
   "language": "python",
   "name": "python3"
  },
  "language_info": {
   "codemirror_mode": {
    "name": "ipython",
    "version": 3
   },
   "file_extension": ".py",
   "mimetype": "text/x-python",
   "name": "python",
   "nbconvert_exporter": "python",
   "pygments_lexer": "ipython3",
   "version": "3.11.9"
  }
 },
 "nbformat": 4,
 "nbformat_minor": 2
}
